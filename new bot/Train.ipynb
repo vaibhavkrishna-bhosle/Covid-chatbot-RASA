{
 "cells": [
  {
   "cell_type": "markdown",
   "source": [
    "# Imports"
   ],
   "metadata": {}
  },
  {
   "cell_type": "code",
   "execution_count": 1,
   "source": [
    "import nltk\n",
    "from nltk.stem import WordNetLemmatizer\n",
    "lemmatizer = WordNetLemmatizer()\n",
    "import json\n",
    "import pickle\n",
    "\n",
    "import numpy as np\n",
    "from tensorflow.keras.models import Sequential\n",
    "from tensorflow.keras.layers import Dense, Dropout\n",
    "from tensorflow.keras.optimizers import SGD\n",
    "import random"
   ],
   "outputs": [],
   "metadata": {}
  },
  {
   "cell_type": "code",
   "execution_count": 2,
   "source": [
    "words=[]\n",
    "classes = []\n",
    "documents = []\n",
    "ignore_words = ['?', '!',',','.']\n",
    "data_file = open('intents.json',encoding=\"utf8\").read()\n",
    "intents = json.loads(data_file)"
   ],
   "outputs": [],
   "metadata": {}
  },
  {
   "cell_type": "markdown",
   "source": [
    "## Get Intents"
   ],
   "metadata": {}
  },
  {
   "cell_type": "code",
   "execution_count": 3,
   "source": [
    "\n",
    "for intent in intents['intents']:\n",
    "    for pattern in intent['patterns']:\n",
    "\n",
    "        #tokenize each word\n",
    "        w = nltk.word_tokenize(pattern)\n",
    "        words.extend(w)\n",
    "        #add documents in the corpus\n",
    "        documents.append((w, intent['tag']))\n",
    "\n",
    "        # add to our classes list\n",
    "        if intent['tag'] not in classes:\n",
    "            classes.append(intent['tag'])"
   ],
   "outputs": [],
   "metadata": {}
  },
  {
   "cell_type": "code",
   "execution_count": 4,
   "source": [
    "# lemmaztize and lower each word and remove duplicates\n",
    "words = [lemmatizer.lemmatize(w.lower()) for w in words if w not in ignore_words]\n",
    "words = sorted(list(set(words)))\n",
    "# sort classes\n",
    "classes = sorted(list(set(classes)))\n",
    "# documents = combination between patterns and intents\n",
    "print (len(documents), \"documents\")\n",
    "# classes = intents\n",
    "print (len(classes), \"classes\", classes)\n",
    "# words = all words, vocabulary\n",
    "print (len(words), \"unique lemmatized words\", words)\n",
    "\n",
    "\n",
    "pickle.dump(words,open('save/words.pkl','wb'))\n",
    "pickle.dump(classes,open('save/classes.pkl','wb'))"
   ],
   "outputs": [
    {
     "output_type": "stream",
     "name": "stdout",
     "text": [
      "424 documents\n",
      "81 classes ['Question', 'SARS', 'Spread', 'againcv', 'airborne', 'anim', 'animals', 'anti', 'antibiotics', 'blood', 'caringsomeone', 'cases world', 'casesindia', 'childermask', 'children', 'cleaning', 'corona_infected_person', 'corona_spread_warm', 'cure', 'deas', 'delta', 'do', 'dose', 'facts', 'familystress', 'fda', 'food', 'food_spread', 'funeral', 'goodbye', 'greeting', 'helplinelist', 'highbp', 'human', 'ifill', 'incubation', 'laterpositive', 'likely', 'mask', 'month_cal', 'mosquito', 'noanswer', 'nosymptom', 'notdo', 'occur', 'options', 'outbreak', 'package', 'pet', 'poster', 'precautions', 'protect', 'protection', 'put on', 'quarantine', 'receive', 'risk', 'sanitizer', 'sars', 'side effect', 'source', 'spread_risk', 'stigma', 'surface', 'symptoms', 'temp', 'testforcovid', 'thanks', 'timeperiod', 'vacc', 'vaccination centre', 'vaccine', 'vaccine work', 'vape', 'varient', 'visitplace', 'wear', 'whenmask', 'who', 'whycovid', 'worry']\n",
      "391 unique lemmatized words [\"'s\", '(', ')', '19', '2020-01', '2020-02', '2020-03', '2020-04', '2020-05', '2020-06', '2020-07', '2020-08', '2020-09', '2020-10', '2020-11', '2020-12', '2021-01', '2021-02', '2021-03', '2021-04', '2021-05', '2021-06', '2021-07', '2021-08', '2021-09', '2021-10', '2021-11', '2021-12', '3rd', 'a', 'about', 'actually', 'after', 'again', 'against', 'aid', 'air', 'airboarne', 'airborne', 'all', 'am', 'ambulance', 'an', 'and', 'animal', 'antibiotic', 'any', 'anyone', 'anything', 'are', 'area', 'asumptions', 'at', 'attend', 'available', 'avoid', 'awesome', 'baby', 'be', 'become', 'been', 'benifits', 'blood', 'bloovid', 'born', 'by', 'bye', 'call', 'called', 'can', 'caring', 'case', 'cat', 'catch', 'caught', 'causing', 'centre', 'chair', 'chance', 'chatting', 'checkup', 'child', 'childern', 'cigrate', 'citizen', 'clean', 'cleaning', 'cloth', 'common', 'community', 'complication', 'contact', 'cope', 'corona', 'coronavirus', 'could', 'covid', 'covid-19', 'covid19', 'cure', 'curing', 'dangerous', 'day', 'delta', 'destance', 'destancing', 'detailed', 'developed', 'developing', 'did', 'died', 'different', 'disease', 'dispose', 'distancing', 'do', 'doe', 'dog', 'doing', 'donate', 'donation', 'door', 'dose', 'drug', 'effect', 'effective', 'elderly', 'emergency', 'explain', 'fake', 'family', 'fda', 'feces', 'feel', 'fever', 'fight', 'find', 'first', 'food', 'for', 'from', 'funeral', 'ge', 'get', 'getting', 'go', 'good', 'goodbye', 'grandma', 'grandpa', 'guideline', 'ha', 'had', 'hand', 'handel', 'have', 'health', 'heat', 'hello', 'help', 'helpful', 'helping', 'helpline', 'hey', 'hi', 'high', 'higher', 'himself/herself', 'hola', 'house', 'how', 'human', 'hypertension', 'i', 'if', 'ill', 'illness', 'immune', 'in', 'incubation', 'india', 'infected', 'infection', 'is', 'it', 'know', 'known', 'later', 'likely', 'long', 'many', 'mask', 'material', 'me', 'measure', 'med', 'medicine', 'member', 'more', 'mosquito', 'must', 'my', 'myself', 'myth', 'nation', 'nearest', 'necessary', 'negative', 'new', 'news', 'next', 'nice', 'nicotine', 'no', 'normal', 'not', 'novel', 'number', 'object', 'occur', 'occurs', 'of', 'off', 'offered', 'old', 'on', 'once', 'online', 'or', 'organisatation', 'orign', 'others', 'our', 'outbreak', 'pack', 'package', 'page', 'pandemic', 'paper', 'people', 'period', 'person', 'pet', 'place', 'positive', 'possible', 'poster', 'precaution', 'present', 'pressure', 'prevent', 'preventing', 'prevention', 'prone', 'proper', 'protect', 'protection', 'provide', 'put', 'quarantine', 'receive', 'recovered', 'reduce', 'reference', 'related', 'report', 'reported', 'responce', 'respond', 'restaurant', 'right', 'risk', 'rtpcr', 's', 'safe', 'safety', 'safty', 'same', 'sanitiser', 'sanitizer', 'sars', 'sars-cov-2', 'see', 'senior', 'service', 'severe', 'should', 'show', 'sick', 'side', 'smoking', 'soap', 'social', 'someone', 'source', 'spread', 'spred', 'start', 'started', 'state', 'statistic', 'stats', 'stay', 'steel', 'step', 'sticker', 'stigma', 'stop', 'stress', 'supply', 'support', 'surface', 'survive', 'swap', 'symptom', 'symptons', 'table', 'take', 'taken', 'tell', 'temp', 'temperature', 'temprature', 'tension', 'tesing', 'test', 'tested', 'testing', 'thank', 'thanks', 'that', 'the', 'therapy', 'there', 'third', 'this', 'till', 'time', 'tip', 'to', 'tobacco', 'tollfree', 'total', 'travel', 'traveling', 'travelled', 'travelling', 'treatement', 'treating', 'treatment', 'unwell', 'up', 'us', 'use', 'vaccination', 'vaccine', 'vape', 'vaping', 'varents', 'varient', 'varients', 'viral', 'virus', 'visit', 'visiting', 'wa', 'wall', 'wallpaper', 'warm', 'water', 'way', 'wear', 'wearing', 'weather', 'web', 'website', 'what', 'when', 'where', 'which', 'while', 'who', 'why', 'will', 'with', 'wood', 'work', 'world', 'worry', 'you', '’']\n"
     ]
    }
   ],
   "metadata": {}
  },
  {
   "cell_type": "markdown",
   "source": [
    "## Create training data"
   ],
   "metadata": {}
  },
  {
   "cell_type": "code",
   "execution_count": 5,
   "source": [
    "# create our training data\n",
    "training = []\n",
    "# create an empty array for our output\n",
    "output_empty = [0] * len(classes)\n",
    "# training set, bag of words for each sentence\n",
    "for doc in documents:\n",
    "    # initialize our bag of words\n",
    "    bag = []\n",
    "    # list of tokenized words for the pattern\n",
    "    pattern_words = doc[0]\n",
    "    # lemmatize each word - create base word, in attempt to represent related words\n",
    "    pattern_words = [lemmatizer.lemmatize(word.lower()) for word in pattern_words]\n",
    "    # create our bag of words array with 1, if word match found in current pattern\n",
    "    for w in words:\n",
    "        bag.append(1) if w in pattern_words else bag.append(0)\n",
    "\n",
    "    # output is a '0' for each tag and '1' for current tag (for each pattern)\n",
    "    output_row = list(output_empty)\n",
    "    output_row[classes.index(doc[1])] = 1\n",
    "\n",
    "    training.append([bag, output_row])\n",
    "# shuffle our features and turn into np.array\n",
    "random.shuffle(training)\n",
    "training = np.array(training)\n",
    "# create train and test lists. X - patterns, Y - intents\n",
    "train_x = list(training[:,0])\n",
    "train_y = list(training[:,1])\n",
    "print(\"Training data created\")"
   ],
   "outputs": [
    {
     "output_type": "stream",
     "name": "stdout",
     "text": [
      "Training data created\n"
     ]
    },
    {
     "output_type": "stream",
     "name": "stderr",
     "text": [
      "/Users/vaibhavkrishnabhosle/opt/anaconda3/envs/mlai/lib/python3.7/site-packages/ipykernel_launcher.py:24: VisibleDeprecationWarning: Creating an ndarray from ragged nested sequences (which is a list-or-tuple of lists-or-tuples-or ndarrays with different lengths or shapes) is deprecated. If you meant to do this, you must specify 'dtype=object' when creating the ndarray\n"
     ]
    }
   ],
   "metadata": {}
  },
  {
   "cell_type": "code",
   "execution_count": 6,
   "source": [
    "# Create model - 3 layers. First layer 128 neurons, second layer 64 neurons and 3rd output layer contains number of neurons\n",
    "# equal to number of intents to predict output intent with softmax\n",
    "model = Sequential()\n",
    "model.add(Dense(128, input_shape=(len(train_x[0]),), activation='relu'))\n",
    "model.add(Dropout(0.3))\n",
    "model.add(Dense(64, activation='relu'))\n",
    "model.add(Dropout(0.3))\n",
    "model.add(Dense(len(train_y[0]), activation='softmax'))"
   ],
   "outputs": [
    {
     "output_type": "stream",
     "name": "stderr",
     "text": [
      "2021-09-29 22:39:45.430590: I tensorflow/core/platform/cpu_feature_guard.cc:142] This TensorFlow binary is optimized with oneAPI Deep Neural Network Library (oneDNN) to use the following CPU instructions in performance-critical operations:  AVX2 FMA\n",
      "To enable them in other operations, rebuild TensorFlow with the appropriate compiler flags.\n"
     ]
    }
   ],
   "metadata": {}
  },
  {
   "cell_type": "code",
   "execution_count": 7,
   "source": [
    "model.summary()"
   ],
   "outputs": [
    {
     "output_type": "stream",
     "name": "stdout",
     "text": [
      "Model: \"sequential\"\n",
      "_________________________________________________________________\n",
      "Layer (type)                 Output Shape              Param #   \n",
      "=================================================================\n",
      "dense (Dense)                (None, 128)               50176     \n",
      "_________________________________________________________________\n",
      "dropout (Dropout)            (None, 128)               0         \n",
      "_________________________________________________________________\n",
      "dense_1 (Dense)              (None, 64)                8256      \n",
      "_________________________________________________________________\n",
      "dropout_1 (Dropout)          (None, 64)                0         \n",
      "_________________________________________________________________\n",
      "dense_2 (Dense)              (None, 81)                5265      \n",
      "=================================================================\n",
      "Total params: 63,697\n",
      "Trainable params: 63,697\n",
      "Non-trainable params: 0\n",
      "_________________________________________________________________\n"
     ]
    }
   ],
   "metadata": {}
  },
  {
   "cell_type": "code",
   "execution_count": 8,
   "source": [
    "epochs = 100"
   ],
   "outputs": [],
   "metadata": {}
  },
  {
   "cell_type": "code",
   "execution_count": 9,
   "source": [
    "\n",
    "# Compile model. Stochastic gradient descent with Nesterov accelerated gradient gives good results for this model\n",
    "sgd = SGD(lr=0.01, decay=1e-6, momentum=0.9, nesterov=True)\n",
    "model.compile(loss='categorical_crossentropy', optimizer=sgd, metrics=['accuracy'])\n",
    "\n",
    "#fitting and saving the model\n",
    "hist = model.fit(np.array(train_x), np.array(train_y), epochs=epochs, batch_size=5, verbose=1)"
   ],
   "outputs": [
    {
     "output_type": "stream",
     "name": "stderr",
     "text": [
      "/Users/vaibhavkrishnabhosle/opt/anaconda3/envs/mlai/lib/python3.7/site-packages/tensorflow/python/keras/optimizer_v2/optimizer_v2.py:375: UserWarning: The `lr` argument is deprecated, use `learning_rate` instead.\n",
      "  \"The `lr` argument is deprecated, use `learning_rate` instead.\")\n",
      "2021-09-29 22:39:46.876259: I tensorflow/compiler/mlir/mlir_graph_optimization_pass.cc:176] None of the MLIR Optimization Passes are enabled (registered 2)\n"
     ]
    },
    {
     "output_type": "stream",
     "name": "stdout",
     "text": [
      "Epoch 1/100\n",
      "85/85 [==============================] - 1s 2ms/step - loss: 4.3206 - accuracy: 0.0519\n",
      "Epoch 2/100\n",
      "85/85 [==============================] - 0s 2ms/step - loss: 4.0181 - accuracy: 0.0849\n",
      "Epoch 3/100\n",
      "85/85 [==============================] - 0s 2ms/step - loss: 3.7626 - accuracy: 0.1415\n",
      "Epoch 4/100\n",
      "85/85 [==============================] - 0s 2ms/step - loss: 3.4194 - accuracy: 0.2099\n",
      "Epoch 5/100\n",
      "85/85 [==============================] - 0s 2ms/step - loss: 3.1102 - accuracy: 0.2972\n",
      "Epoch 6/100\n",
      "85/85 [==============================] - 0s 2ms/step - loss: 2.7991 - accuracy: 0.3632\n",
      "Epoch 7/100\n",
      "85/85 [==============================] - 0s 2ms/step - loss: 2.4711 - accuracy: 0.4198\n",
      "Epoch 8/100\n",
      "85/85 [==============================] - 0s 3ms/step - loss: 2.2157 - accuracy: 0.5000\n",
      "Epoch 9/100\n",
      "85/85 [==============================] - 0s 2ms/step - loss: 2.0789 - accuracy: 0.4929\n",
      "Epoch 10/100\n",
      "85/85 [==============================] - 0s 2ms/step - loss: 1.7741 - accuracy: 0.5708\n",
      "Epoch 11/100\n",
      "85/85 [==============================] - 0s 2ms/step - loss: 1.5695 - accuracy: 0.5967\n",
      "Epoch 12/100\n",
      "85/85 [==============================] - 0s 2ms/step - loss: 1.4209 - accuracy: 0.6344\n",
      "Epoch 13/100\n",
      "85/85 [==============================] - 0s 2ms/step - loss: 1.2800 - accuracy: 0.6792\n",
      "Epoch 14/100\n",
      "85/85 [==============================] - 0s 2ms/step - loss: 1.1513 - accuracy: 0.7123\n",
      "Epoch 15/100\n",
      "85/85 [==============================] - 0s 2ms/step - loss: 0.9745 - accuracy: 0.7217\n",
      "Epoch 16/100\n",
      "85/85 [==============================] - 0s 2ms/step - loss: 0.9297 - accuracy: 0.7642\n",
      "Epoch 17/100\n",
      "85/85 [==============================] - 0s 2ms/step - loss: 0.7666 - accuracy: 0.7925\n",
      "Epoch 18/100\n",
      "85/85 [==============================] - 0s 2ms/step - loss: 0.7081 - accuracy: 0.8066\n",
      "Epoch 19/100\n",
      "85/85 [==============================] - 0s 2ms/step - loss: 0.6715 - accuracy: 0.8302\n",
      "Epoch 20/100\n",
      "85/85 [==============================] - 0s 2ms/step - loss: 0.5783 - accuracy: 0.8491\n",
      "Epoch 21/100\n",
      "85/85 [==============================] - 0s 2ms/step - loss: 0.5388 - accuracy: 0.8703\n",
      "Epoch 22/100\n",
      "85/85 [==============================] - 0s 2ms/step - loss: 0.4394 - accuracy: 0.8892\n",
      "Epoch 23/100\n",
      "85/85 [==============================] - 0s 2ms/step - loss: 0.4289 - accuracy: 0.8844\n",
      "Epoch 24/100\n",
      "85/85 [==============================] - 0s 2ms/step - loss: 0.4217 - accuracy: 0.8750\n",
      "Epoch 25/100\n",
      "85/85 [==============================] - 0s 2ms/step - loss: 0.4404 - accuracy: 0.8656\n",
      "Epoch 26/100\n",
      "85/85 [==============================] - 0s 2ms/step - loss: 0.3853 - accuracy: 0.9009\n",
      "Epoch 27/100\n",
      "85/85 [==============================] - 0s 2ms/step - loss: 0.3662 - accuracy: 0.8844\n",
      "Epoch 28/100\n",
      "85/85 [==============================] - 0s 2ms/step - loss: 0.3237 - accuracy: 0.8986\n",
      "Epoch 29/100\n",
      "85/85 [==============================] - 0s 2ms/step - loss: 0.3378 - accuracy: 0.8939\n",
      "Epoch 30/100\n",
      "85/85 [==============================] - 0s 2ms/step - loss: 0.2897 - accuracy: 0.9127\n",
      "Epoch 31/100\n",
      "85/85 [==============================] - 0s 2ms/step - loss: 0.2965 - accuracy: 0.9198\n",
      "Epoch 32/100\n",
      "85/85 [==============================] - 0s 2ms/step - loss: 0.2667 - accuracy: 0.9222\n",
      "Epoch 33/100\n",
      "85/85 [==============================] - 0s 2ms/step - loss: 0.2807 - accuracy: 0.9198\n",
      "Epoch 34/100\n",
      "85/85 [==============================] - 0s 2ms/step - loss: 0.2029 - accuracy: 0.9363\n",
      "Epoch 35/100\n",
      "85/85 [==============================] - 0s 2ms/step - loss: 0.2582 - accuracy: 0.9151\n",
      "Epoch 36/100\n",
      "85/85 [==============================] - 0s 2ms/step - loss: 0.2791 - accuracy: 0.9222\n",
      "Epoch 37/100\n",
      "85/85 [==============================] - 0s 2ms/step - loss: 0.1951 - accuracy: 0.9387\n",
      "Epoch 38/100\n",
      "85/85 [==============================] - 0s 2ms/step - loss: 0.2609 - accuracy: 0.9151\n",
      "Epoch 39/100\n",
      "85/85 [==============================] - 0s 2ms/step - loss: 0.2329 - accuracy: 0.9363\n",
      "Epoch 40/100\n",
      "85/85 [==============================] - 0s 2ms/step - loss: 0.2521 - accuracy: 0.9245\n",
      "Epoch 41/100\n",
      "85/85 [==============================] - 0s 2ms/step - loss: 0.2217 - accuracy: 0.9387\n",
      "Epoch 42/100\n",
      "85/85 [==============================] - 0s 2ms/step - loss: 0.1875 - accuracy: 0.9481\n",
      "Epoch 43/100\n",
      "85/85 [==============================] - 0s 2ms/step - loss: 0.2093 - accuracy: 0.9434\n",
      "Epoch 44/100\n",
      "85/85 [==============================] - 0s 2ms/step - loss: 0.2231 - accuracy: 0.9269\n",
      "Epoch 45/100\n",
      "85/85 [==============================] - 0s 2ms/step - loss: 0.1664 - accuracy: 0.9340\n",
      "Epoch 46/100\n",
      "85/85 [==============================] - 0s 2ms/step - loss: 0.2429 - accuracy: 0.9245\n",
      "Epoch 47/100\n",
      "85/85 [==============================] - 0s 2ms/step - loss: 0.1849 - accuracy: 0.9505\n",
      "Epoch 48/100\n",
      "85/85 [==============================] - 0s 2ms/step - loss: 0.1873 - accuracy: 0.9505\n",
      "Epoch 49/100\n",
      "85/85 [==============================] - 0s 2ms/step - loss: 0.1989 - accuracy: 0.9410\n",
      "Epoch 50/100\n",
      "85/85 [==============================] - 0s 2ms/step - loss: 0.1878 - accuracy: 0.9363\n",
      "Epoch 51/100\n",
      "85/85 [==============================] - 0s 2ms/step - loss: 0.1858 - accuracy: 0.9292\n",
      "Epoch 52/100\n",
      "85/85 [==============================] - 0s 2ms/step - loss: 0.2111 - accuracy: 0.9269\n",
      "Epoch 53/100\n",
      "85/85 [==============================] - 0s 2ms/step - loss: 0.1780 - accuracy: 0.9528\n",
      "Epoch 54/100\n",
      "85/85 [==============================] - 0s 2ms/step - loss: 0.1994 - accuracy: 0.9269\n",
      "Epoch 55/100\n",
      "85/85 [==============================] - 0s 2ms/step - loss: 0.1884 - accuracy: 0.9340\n",
      "Epoch 56/100\n",
      "85/85 [==============================] - 0s 2ms/step - loss: 0.1686 - accuracy: 0.9434\n",
      "Epoch 57/100\n",
      "85/85 [==============================] - 0s 2ms/step - loss: 0.1836 - accuracy: 0.9340\n",
      "Epoch 58/100\n",
      "85/85 [==============================] - 0s 2ms/step - loss: 0.1841 - accuracy: 0.9340\n",
      "Epoch 59/100\n",
      "85/85 [==============================] - 0s 2ms/step - loss: 0.1445 - accuracy: 0.9599\n",
      "Epoch 60/100\n",
      "85/85 [==============================] - 0s 2ms/step - loss: 0.1314 - accuracy: 0.9552\n",
      "Epoch 61/100\n",
      "85/85 [==============================] - 0s 2ms/step - loss: 0.1247 - accuracy: 0.9623\n",
      "Epoch 62/100\n",
      "85/85 [==============================] - 0s 2ms/step - loss: 0.1603 - accuracy: 0.9410\n",
      "Epoch 63/100\n",
      "85/85 [==============================] - 0s 4ms/step - loss: 0.1573 - accuracy: 0.9505\n",
      "Epoch 64/100\n",
      "85/85 [==============================] - 0s 2ms/step - loss: 0.1365 - accuracy: 0.9575\n",
      "Epoch 65/100\n",
      "85/85 [==============================] - 0s 2ms/step - loss: 0.1491 - accuracy: 0.9410\n",
      "Epoch 66/100\n",
      "85/85 [==============================] - 0s 2ms/step - loss: 0.1733 - accuracy: 0.9434\n",
      "Epoch 67/100\n",
      "85/85 [==============================] - 0s 2ms/step - loss: 0.1606 - accuracy: 0.9458\n",
      "Epoch 68/100\n",
      "85/85 [==============================] - 0s 2ms/step - loss: 0.1382 - accuracy: 0.9481\n",
      "Epoch 69/100\n",
      "85/85 [==============================] - 0s 2ms/step - loss: 0.1462 - accuracy: 0.9434\n",
      "Epoch 70/100\n",
      "85/85 [==============================] - 0s 2ms/step - loss: 0.1443 - accuracy: 0.9458\n",
      "Epoch 71/100\n",
      "85/85 [==============================] - 0s 2ms/step - loss: 0.1533 - accuracy: 0.9434\n",
      "Epoch 72/100\n",
      "85/85 [==============================] - 0s 2ms/step - loss: 0.1641 - accuracy: 0.9387\n",
      "Epoch 73/100\n",
      "85/85 [==============================] - 0s 2ms/step - loss: 0.1633 - accuracy: 0.9340\n",
      "Epoch 74/100\n",
      "85/85 [==============================] - 0s 2ms/step - loss: 0.1232 - accuracy: 0.9505\n",
      "Epoch 75/100\n",
      "85/85 [==============================] - 0s 2ms/step - loss: 0.1374 - accuracy: 0.9481\n",
      "Epoch 76/100\n",
      "85/85 [==============================] - 0s 2ms/step - loss: 0.1289 - accuracy: 0.9575\n",
      "Epoch 77/100\n",
      "85/85 [==============================] - 0s 2ms/step - loss: 0.1167 - accuracy: 0.9505\n",
      "Epoch 78/100\n",
      "85/85 [==============================] - 0s 2ms/step - loss: 0.1493 - accuracy: 0.9434\n",
      "Epoch 79/100\n",
      "85/85 [==============================] - 0s 2ms/step - loss: 0.0965 - accuracy: 0.9528\n",
      "Epoch 80/100\n",
      "85/85 [==============================] - 0s 2ms/step - loss: 0.1170 - accuracy: 0.9505\n",
      "Epoch 81/100\n",
      "85/85 [==============================] - 0s 2ms/step - loss: 0.1601 - accuracy: 0.9505\n",
      "Epoch 82/100\n",
      "85/85 [==============================] - 0s 2ms/step - loss: 0.1410 - accuracy: 0.9575\n",
      "Epoch 83/100\n",
      "85/85 [==============================] - 0s 2ms/step - loss: 0.1174 - accuracy: 0.9481\n",
      "Epoch 84/100\n",
      "85/85 [==============================] - 0s 2ms/step - loss: 0.1180 - accuracy: 0.9528\n",
      "Epoch 85/100\n",
      "85/85 [==============================] - 0s 2ms/step - loss: 0.1412 - accuracy: 0.9458\n",
      "Epoch 86/100\n",
      "85/85 [==============================] - 0s 2ms/step - loss: 0.1434 - accuracy: 0.9410\n",
      "Epoch 87/100\n",
      "85/85 [==============================] - 0s 2ms/step - loss: 0.1175 - accuracy: 0.9552\n",
      "Epoch 88/100\n",
      "85/85 [==============================] - 0s 2ms/step - loss: 0.1071 - accuracy: 0.9505\n",
      "Epoch 89/100\n",
      "85/85 [==============================] - 0s 2ms/step - loss: 0.0941 - accuracy: 0.9646\n",
      "Epoch 90/100\n",
      "85/85 [==============================] - 0s 2ms/step - loss: 0.1158 - accuracy: 0.9481\n",
      "Epoch 91/100\n",
      "85/85 [==============================] - 0s 2ms/step - loss: 0.1291 - accuracy: 0.9458\n",
      "Epoch 92/100\n",
      "85/85 [==============================] - 0s 2ms/step - loss: 0.0884 - accuracy: 0.9670\n",
      "Epoch 93/100\n",
      "85/85 [==============================] - 0s 2ms/step - loss: 0.1299 - accuracy: 0.9481\n",
      "Epoch 94/100\n",
      "85/85 [==============================] - 0s 2ms/step - loss: 0.1511 - accuracy: 0.9410\n",
      "Epoch 95/100\n",
      "85/85 [==============================] - 0s 2ms/step - loss: 0.1251 - accuracy: 0.9528\n",
      "Epoch 96/100\n",
      "85/85 [==============================] - 0s 2ms/step - loss: 0.1555 - accuracy: 0.9363\n",
      "Epoch 97/100\n",
      "85/85 [==============================] - 0s 2ms/step - loss: 0.1088 - accuracy: 0.9458\n",
      "Epoch 98/100\n",
      "85/85 [==============================] - 0s 2ms/step - loss: 0.1288 - accuracy: 0.9458\n",
      "Epoch 99/100\n",
      "85/85 [==============================] - 0s 2ms/step - loss: 0.1131 - accuracy: 0.9552\n",
      "Epoch 100/100\n",
      "85/85 [==============================] - 0s 2ms/step - loss: 0.1117 - accuracy: 0.9646\n"
     ]
    }
   ],
   "metadata": {}
  },
  {
   "cell_type": "code",
   "execution_count": 10,
   "source": [
    "#save model\n",
    "model.save('save/chatbot_model.h5', hist)"
   ],
   "outputs": [],
   "metadata": {}
  },
  {
   "cell_type": "code",
   "execution_count": 11,
   "source": [
    "from matplotlib import pyplot as plt\n",
    "train_loss = hist.history['loss']\n",
    "train_acc = hist.history['accuracy']\n",
    "xc = range(epochs)\n",
    "\n",
    "plt.plot(xc,train_loss)\n",
    "plt.plot(xc,train_acc)\n",
    "plt.xlabel('num of Epochs')\n",
    "plt.ylabel('loss')\n",
    "plt.title('train_loss vs Train_accuracy')\n",
    "plt.grid(True)\n",
    "plt.legend(['Loss','Accuracy'])\n",
    "#print plt.style.available # use bmh, classic,ggplot for big pictures\n",
    "plt.style.use(['classic'])"
   ],
   "outputs": [
    {
     "output_type": "display_data",
     "data": {
      "image/png": "[encoded data removed]",
      "text/plain": [
       "<Figure size 432x288 with 1 Axes>"
      ]
     },
     "metadata": {
      "needs_background": "light"
     }
    }
   ],
   "metadata": {}
  },
  {
   "cell_type": "code",
   "execution_count": null,
   "source": [],
   "outputs": [],
   "metadata": {}
  }
 ],
 "metadata": {
  "orig_nbformat": 4,
  "language_info": {
   "name": "python",
   "version": "3.7.11",
   "mimetype": "text/x-python",
   "codemirror_mode": {
    "name": "ipython",
    "version": 3
   },
   "pygments_lexer": "ipython3",
   "nbconvert_exporter": "python",
   "file_extension": ".py"
  },
  "kernelspec": {
   "name": "python3",
   "display_name": "Python 3.7.11 64-bit ('mlai': conda)"
  },
  "interpreter": {
   "hash": "35ebf5710b4eabfcdf8f5c83ad104ed5a90d170633efc49a8df212611f0c6cfc"
  }
 },
 "nbformat": 4,
 "nbformat_minor": 2
}
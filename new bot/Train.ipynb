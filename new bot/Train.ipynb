{
 "cells": [
  {
   "cell_type": "markdown",
   "source": [
    "# Imports"
   ],
   "metadata": {}
  },
  {
   "cell_type": "code",
   "execution_count": 1,
   "source": [
    "import nltk\n",
    "from nltk.stem import WordNetLemmatizer\n",
    "lemmatizer = WordNetLemmatizer()\n",
    "import json\n",
    "import pickle\n",
    "\n",
    "import numpy as np\n",
    "from tensorflow.keras.models import Sequential\n",
    "from tensorflow.keras.layers import Dense, Activation, Dropout\n",
    "from tensorflow.keras.optimizers import SGD\n",
    "import random"
   ],
   "outputs": [],
   "metadata": {}
  },
  {
   "cell_type": "code",
   "execution_count": 2,
   "source": [
    "words=[]\n",
    "classes = []\n",
    "documents = []\n",
    "ignore_words = ['?', '!',',','.']\n",
    "data_file = open('intents.json',encoding=\"utf8\").read()\n",
    "intents = json.loads(data_file)"
   ],
   "outputs": [],
   "metadata": {}
  },
  {
   "cell_type": "markdown",
   "source": [
    "## Get Intents"
   ],
   "metadata": {}
  },
  {
   "cell_type": "code",
   "execution_count": 3,
   "source": [
    "\n",
    "for intent in intents['intents']:\n",
    "    for pattern in intent['patterns']:\n",
    "\n",
    "        #tokenize each word\n",
    "        w = nltk.word_tokenize(pattern)\n",
    "        words.extend(w)\n",
    "        #add documents in the corpus\n",
    "        documents.append((w, intent['tag']))\n",
    "\n",
    "        # add to our classes list\n",
    "        if intent['tag'] not in classes:\n",
    "            classes.append(intent['tag'])"
   ],
   "outputs": [],
   "metadata": {}
  },
  {
   "cell_type": "code",
   "execution_count": 4,
   "source": [
    "# lemmaztize and lower each word and remove duplicates\n",
    "words = [lemmatizer.lemmatize(w.lower()) for w in words if w not in ignore_words]\n",
    "words = sorted(list(set(words)))\n",
    "# sort classes\n",
    "classes = sorted(list(set(classes)))\n",
    "# documents = combination between patterns and intents\n",
    "print (len(documents), \"documents\")\n",
    "# classes = intents\n",
    "print (len(classes), \"classes\", classes)\n",
    "# words = all words, vocabulary\n",
    "print (len(words), \"unique lemmatized words\", words)\n",
    "\n",
    "\n",
    "pickle.dump(words,open('save/words.pkl','wb'))\n",
    "pickle.dump(classes,open('save/classes.pkl','wb'))"
   ],
   "outputs": [
    {
     "output_type": "stream",
     "name": "stdout",
     "text": [
      "414 documents\n",
      "77 classes ['Question', 'SARS', 'Spread', 'againcv', 'airborne', 'anim', 'animals', 'anti', 'antibiotics', 'blood', 'caringsomeone', 'cases world', 'casesindia', 'childermask', 'children', 'cleaning', 'communitywork', 'corona_infected_person', 'cure', 'deas', 'delta', 'do', 'dose', 'facts', 'familystress', 'fda', 'food', 'food_spread', 'funeral', 'goodbye', 'greeting', 'helplinelist', 'highbp', 'human', 'ifill', 'incubation', 'laterpositive', 'likely', 'mask', 'month_cal', 'mosquito', 'noanswer', 'nosymptom', 'notdo', 'occur', 'options', 'outbreak', 'package', 'pet', 'precautions', 'protect', 'protection', 'put on', 'quarantine', 'receive', 'risk', 'sanitizer', 'sars', 'source', 'spread_risk', 'stigma', 'surface', 'symptoms', 'temp', 'testforcovid', 'thanks', 'timeperiod', 'vacc', 'vaccine', 'vape', 'varient', 'visitplace', 'wear', 'whenmask', 'who', 'whycovid', 'worry']\n",
      "380 unique lemmatized words [\"'s\", '(', ')', '19', '2020-01', '2020-02', '2020-03', '2020-04', '2020-05', '2020-06', '2020-07', '2020-08', '2020-09', '2020-10', '2020-11', '2020-12', '2021-01', '2021-02', '2021-03', '2021-04', '2021-05', '2021-06', '2021-07', '2021-08', '2021-09', '2021-10', '2021-11', '2021-12', '3rd', 'a', 'about', 'after', 'again', 'against', 'aid', 'air', 'airboarne', 'airborne', 'all', 'am', 'ambulance', 'an', 'and', 'animal', 'antibiotic', 'any', 'anyone', 'anything', 'are', 'area', 'asumptions', 'at', 'attend', 'available', 'avoid', 'awesome', 'baby', 'be', 'become', 'been', 'benifits', 'blood', 'bloovid', 'born', 'by', 'bye', 'call', 'called', 'can', 'caring', 'case', 'cat', 'catch', 'caught', 'causing', 'chair', 'chance', 'chatting', 'checkup', 'child', 'childern', 'cigrate', 'citizen', 'clean', 'cleaning', 'cloth', 'community', 'complication', 'contact', 'cope', 'corona', 'coronavirus', 'could', 'covi', 'covid', 'covid-19', 'covid19', 'cure', 'curing', 'dangerous', 'day', 'delta', 'destance', 'destancing', 'detailed', 'developed', 'developing', 'did', 'died', 'different', 'disease', 'dispose', 'distancing', 'do', 'doe', 'dog', 'doing', 'donate', 'donation', 'door', 'dose', 'drug', 'effect', 'effective', 'elderly', 'emergency', 'explain', 'fake', 'family', 'fda', 'feces', 'feel', 'fever', 'fight', 'first', 'food', 'for', 'from', 'funeral', 'ge', 'get', 'getting', 'go', 'good', 'goodbye', 'grandma', 'grandpa', 'guideline', 'ha', 'had', 'hand', 'handel', 'have', 'health', 'heat', 'hello', 'help', 'helpful', 'helping', 'helpline', 'hey', 'hi', 'high', 'higher', 'himself/herself', 'hola', 'house', 'how', 'human', 'hypertension', 'i', 'if', 'ill', 'illness', 'immune', 'in', 'incubation', 'india', 'infected', 'infection', 'is', 'it', 'know', 'known', 'later', 'likely', 'long', 'many', 'mask', 'material', 'me', 'measure', 'med', 'medicine', 'member', 'more', 'mosquito', 'must', 'my', 'myself', 'myth', 'nation', 'necessary', 'negative', 'new', 'news', 'next', 'nice', 'nicotine', 'no', 'normal', 'not', 'novel', 'number', 'object', 'occur', 'occurs', 'of', 'off', 'offered', 'old', 'on', 'once', 'online', 'or', 'organisatation', 'orign', 'others', 'our', 'outbreak', 'pack', 'package', 'page', 'pandemic', 'paper', 'people', 'period', 'person', 'pet', 'place', 'positive', 'possible', 'precaution', 'present', 'pressure', 'prevent', 'preventing', 'prevention', 'prone', 'proper', 'protect', 'protection', 'provide', 'put', 'quarantine', 'receive', 'recovered', 'reduce', 'reference', 'related', 'report', 'reported', 'responce', 'respond', 'restaurant', 'right', 'risk', 'rtpcr', 's', 'safe', 'safety', 'safty', 'same', 'sanitiser', 'sanitizer', 'sars', 'sars-cov-2', 'see', 'senior', 'service', 'severe', 'should', 'show', 'sick', 'smoking', 'soap', 'social', 'someone', 'source', 'spread', 'spred', 'start', 'started', 'state', 'statistic', 'stats', 'stay', 'steel', 'step', 'stigma', 'stop', 'stress', 'supply', 'support', 'surface', 'survive', 'swap', 'symptom', 'symptons', 'table', 'take', 'taken', 'tell', 'temp', 'temperature', 'temprature', 'tension', 'tesing', 'test', 'tested', 'testing', 'thank', 'thanks', 'that', 'the', 'therapy', 'there', 'third', 'this', 'till', 'time', 'tip', 'to', 'tobacco', 'tollfree', 'total', 'travel', 'traveling', 'travelled', 'travelling', 'treatement', 'treating', 'treatment', 'unwell', 'up', 'us', 'use', 'vaccine', 'vape', 'vaping', 'varents', 'varient', 'varients', 'viral', 'virus', 'visit', 'visiting', 'wa', 'water', 'way', 'wear', 'wearing', 'weather', 'web', 'website', 'what', 'when', 'where', 'which', 'while', 'who', 'why', 'will', 'with', 'wood', 'work', 'world', 'worry', 'you', '’']\n"
     ]
    }
   ],
   "metadata": {}
  },
  {
   "cell_type": "markdown",
   "source": [
    "## Create training data"
   ],
   "metadata": {}
  },
  {
   "cell_type": "code",
   "execution_count": 5,
   "source": [
    "# create our training data\n",
    "training = []\n",
    "# create an empty array for our output\n",
    "output_empty = [0] * len(classes)\n",
    "# training set, bag of words for each sentence\n",
    "for doc in documents:\n",
    "    # initialize our bag of words\n",
    "    bag = []\n",
    "    # list of tokenized words for the pattern\n",
    "    pattern_words = doc[0]\n",
    "    # lemmatize each word - create base word, in attempt to represent related words\n",
    "    pattern_words = [lemmatizer.lemmatize(word.lower()) for word in pattern_words]\n",
    "    # create our bag of words array with 1, if word match found in current pattern\n",
    "    for w in words:\n",
    "        bag.append(1) if w in pattern_words else bag.append(0)\n",
    "\n",
    "    # output is a '0' for each tag and '1' for current tag (for each pattern)\n",
    "    output_row = list(output_empty)\n",
    "    output_row[classes.index(doc[1])] = 1\n",
    "\n",
    "    training.append([bag, output_row])\n",
    "# shuffle our features and turn into np.array\n",
    "random.shuffle(training)\n",
    "training = np.array(training)\n",
    "# create train and test lists. X - patterns, Y - intents\n",
    "train_x = list(training[:,0])\n",
    "train_y = list(training[:,1])\n",
    "print(\"Training data created\")"
   ],
   "outputs": [
    {
     "output_type": "stream",
     "name": "stdout",
     "text": [
      "Training data created\n"
     ]
    },
    {
     "output_type": "stream",
     "name": "stderr",
     "text": [
      "/Users/vaibhavkrishnabhosle/opt/anaconda3/envs/mlai/lib/python3.7/site-packages/ipykernel_launcher.py:24: VisibleDeprecationWarning: Creating an ndarray from ragged nested sequences (which is a list-or-tuple of lists-or-tuples-or ndarrays with different lengths or shapes) is deprecated. If you meant to do this, you must specify 'dtype=object' when creating the ndarray\n"
     ]
    }
   ],
   "metadata": {}
  },
  {
   "cell_type": "code",
   "execution_count": 6,
   "source": [
    "# Create model - 3 layers. First layer 128 neurons, second layer 64 neurons and 3rd output layer contains number of neurons\n",
    "# equal to number of intents to predict output intent with softmax\n",
    "model = Sequential()\n",
    "model.add(Dense(128, input_shape=(len(train_x[0]),), activation='relu'))\n",
    "model.add(Dropout(0.3))\n",
    "model.add(Dense(64, activation='relu'))\n",
    "model.add(Dropout(0.3))\n",
    "model.add(Dense(len(train_y[0]), activation='softmax'))"
   ],
   "outputs": [
    {
     "output_type": "stream",
     "name": "stderr",
     "text": [
      "2021-09-19 20:31:46.124705: I tensorflow/core/platform/cpu_feature_guard.cc:142] This TensorFlow binary is optimized with oneAPI Deep Neural Network Library (oneDNN) to use the following CPU instructions in performance-critical operations:  AVX2 FMA\n",
      "To enable them in other operations, rebuild TensorFlow with the appropriate compiler flags.\n"
     ]
    }
   ],
   "metadata": {}
  },
  {
   "cell_type": "code",
   "execution_count": 7,
   "source": [
    "epochs = 100"
   ],
   "outputs": [],
   "metadata": {}
  },
  {
   "cell_type": "code",
   "execution_count": 8,
   "source": [
    "\n",
    "# Compile model. Stochastic gradient descent with Nesterov accelerated gradient gives good results for this model\n",
    "sgd = SGD(lr=0.01, decay=1e-6, momentum=0.9, nesterov=True)\n",
    "model.compile(loss='categorical_crossentropy', optimizer=sgd, metrics=['accuracy'])\n",
    "\n",
    "#fitting and saving the model\n",
    "hist = model.fit(np.array(train_x), np.array(train_y), epochs=epochs, batch_size=5, verbose=1)"
   ],
   "outputs": [
    {
     "output_type": "stream",
     "name": "stderr",
     "text": [
      "/Users/vaibhavkrishnabhosle/opt/anaconda3/envs/mlai/lib/python3.7/site-packages/tensorflow/python/keras/optimizer_v2/optimizer_v2.py:375: UserWarning: The `lr` argument is deprecated, use `learning_rate` instead.\n",
      "  \"The `lr` argument is deprecated, use `learning_rate` instead.\")\n",
      "2021-09-19 20:31:48.593684: I tensorflow/compiler/mlir/mlir_graph_optimization_pass.cc:176] None of the MLIR Optimization Passes are enabled (registered 2)\n"
     ]
    },
    {
     "output_type": "stream",
     "name": "stdout",
     "text": [
      "Epoch 1/100\n",
      "83/83 [==============================] - 1s 2ms/step - loss: 4.2396 - accuracy: 0.0797\n",
      "Epoch 2/100\n",
      "83/83 [==============================] - 0s 2ms/step - loss: 3.9230 - accuracy: 0.1087\n",
      "Epoch 3/100\n",
      "83/83 [==============================] - 0s 3ms/step - loss: 3.5721 - accuracy: 0.1908\n",
      "Epoch 4/100\n",
      "83/83 [==============================] - 0s 3ms/step - loss: 3.2843 - accuracy: 0.2657\n",
      "Epoch 5/100\n",
      "83/83 [==============================] - 0s 2ms/step - loss: 2.9540 - accuracy: 0.3357\n",
      "Epoch 6/100\n",
      "83/83 [==============================] - 0s 2ms/step - loss: 2.6588 - accuracy: 0.4155\n",
      "Epoch 7/100\n",
      "83/83 [==============================] - 0s 2ms/step - loss: 2.4066 - accuracy: 0.4396\n",
      "Epoch 8/100\n",
      "83/83 [==============================] - 0s 2ms/step - loss: 2.1520 - accuracy: 0.4976\n",
      "Epoch 9/100\n",
      "83/83 [==============================] - 0s 2ms/step - loss: 1.9449 - accuracy: 0.5242\n",
      "Epoch 10/100\n",
      "83/83 [==============================] - 0s 2ms/step - loss: 1.6783 - accuracy: 0.6111\n",
      "Epoch 11/100\n",
      "83/83 [==============================] - 0s 2ms/step - loss: 1.5083 - accuracy: 0.6256\n",
      "Epoch 12/100\n",
      "83/83 [==============================] - 0s 2ms/step - loss: 1.3554 - accuracy: 0.6594\n",
      "Epoch 13/100\n",
      "83/83 [==============================] - 0s 3ms/step - loss: 1.2121 - accuracy: 0.6594\n",
      "Epoch 14/100\n",
      "83/83 [==============================] - 0s 2ms/step - loss: 1.0863 - accuracy: 0.7246\n",
      "Epoch 15/100\n",
      "83/83 [==============================] - 0s 2ms/step - loss: 0.9176 - accuracy: 0.7585\n",
      "Epoch 16/100\n",
      "83/83 [==============================] - 0s 6ms/step - loss: 0.8512 - accuracy: 0.7826\n",
      "Epoch 17/100\n",
      "83/83 [==============================] - 0s 3ms/step - loss: 0.8119 - accuracy: 0.7850\n",
      "Epoch 18/100\n",
      "83/83 [==============================] - 0s 3ms/step - loss: 0.7302 - accuracy: 0.7899\n",
      "Epoch 19/100\n",
      "83/83 [==============================] - 0s 3ms/step - loss: 0.7196 - accuracy: 0.8043\n",
      "Epoch 20/100\n",
      "83/83 [==============================] - 0s 3ms/step - loss: 0.5592 - accuracy: 0.8406\n",
      "Epoch 21/100\n",
      "83/83 [==============================] - 0s 3ms/step - loss: 0.5272 - accuracy: 0.8502\n",
      "Epoch 22/100\n",
      "83/83 [==============================] - 0s 3ms/step - loss: 0.4820 - accuracy: 0.8744\n",
      "Epoch 23/100\n",
      "83/83 [==============================] - 0s 3ms/step - loss: 0.4973 - accuracy: 0.8768\n",
      "Epoch 24/100\n",
      "83/83 [==============================] - 0s 3ms/step - loss: 0.4380 - accuracy: 0.8744\n",
      "Epoch 25/100\n",
      "83/83 [==============================] - 0s 3ms/step - loss: 0.3683 - accuracy: 0.8889\n",
      "Epoch 26/100\n",
      "83/83 [==============================] - 0s 4ms/step - loss: 0.3505 - accuracy: 0.9034\n",
      "Epoch 27/100\n",
      "83/83 [==============================] - 0s 3ms/step - loss: 0.3686 - accuracy: 0.9106\n",
      "Epoch 28/100\n",
      "83/83 [==============================] - 0s 3ms/step - loss: 0.3336 - accuracy: 0.9082\n",
      "Epoch 29/100\n",
      "83/83 [==============================] - 0s 4ms/step - loss: 0.3274 - accuracy: 0.9034\n",
      "Epoch 30/100\n",
      "83/83 [==============================] - 0s 4ms/step - loss: 0.3143 - accuracy: 0.9130\n",
      "Epoch 31/100\n",
      "83/83 [==============================] - 0s 3ms/step - loss: 0.3050 - accuracy: 0.9155\n",
      "Epoch 32/100\n",
      "83/83 [==============================] - 0s 4ms/step - loss: 0.2755 - accuracy: 0.9058\n",
      "Epoch 33/100\n",
      "83/83 [==============================] - 0s 4ms/step - loss: 0.2389 - accuracy: 0.9300\n",
      "Epoch 34/100\n",
      "83/83 [==============================] - 0s 3ms/step - loss: 0.2844 - accuracy: 0.9203\n",
      "Epoch 35/100\n",
      "83/83 [==============================] - 0s 3ms/step - loss: 0.2907 - accuracy: 0.9130\n",
      "Epoch 36/100\n",
      "83/83 [==============================] - 0s 3ms/step - loss: 0.2442 - accuracy: 0.9300\n",
      "Epoch 37/100\n",
      "83/83 [==============================] - 0s 2ms/step - loss: 0.2428 - accuracy: 0.9203\n",
      "Epoch 38/100\n",
      "83/83 [==============================] - 0s 2ms/step - loss: 0.2362 - accuracy: 0.9396\n",
      "Epoch 39/100\n",
      "83/83 [==============================] - 0s 2ms/step - loss: 0.2293 - accuracy: 0.9275\n",
      "Epoch 40/100\n",
      "83/83 [==============================] - 0s 3ms/step - loss: 0.2284 - accuracy: 0.9227\n",
      "Epoch 41/100\n",
      "83/83 [==============================] - 0s 2ms/step - loss: 0.1996 - accuracy: 0.9444\n",
      "Epoch 42/100\n",
      "83/83 [==============================] - 0s 2ms/step - loss: 0.2099 - accuracy: 0.9251\n",
      "Epoch 43/100\n",
      "83/83 [==============================] - 0s 2ms/step - loss: 0.1786 - accuracy: 0.9420\n",
      "Epoch 44/100\n",
      "83/83 [==============================] - 0s 2ms/step - loss: 0.2056 - accuracy: 0.9251\n",
      "Epoch 45/100\n",
      "83/83 [==============================] - 0s 3ms/step - loss: 0.1827 - accuracy: 0.9444\n",
      "Epoch 46/100\n",
      "83/83 [==============================] - 0s 2ms/step - loss: 0.2082 - accuracy: 0.9324\n",
      "Epoch 47/100\n",
      "83/83 [==============================] - 0s 3ms/step - loss: 0.2044 - accuracy: 0.9348\n",
      "Epoch 48/100\n",
      "83/83 [==============================] - 0s 2ms/step - loss: 0.1842 - accuracy: 0.9372\n",
      "Epoch 49/100\n",
      "83/83 [==============================] - 0s 3ms/step - loss: 0.1899 - accuracy: 0.9348\n",
      "Epoch 50/100\n",
      "83/83 [==============================] - 0s 5ms/step - loss: 0.1804 - accuracy: 0.9444\n",
      "Epoch 51/100\n",
      "83/83 [==============================] - 0s 3ms/step - loss: 0.1720 - accuracy: 0.9541\n",
      "Epoch 52/100\n",
      "83/83 [==============================] - 0s 4ms/step - loss: 0.1975 - accuracy: 0.9396\n",
      "Epoch 53/100\n",
      "83/83 [==============================] - 0s 5ms/step - loss: 0.1767 - accuracy: 0.9300\n",
      "Epoch 54/100\n",
      "83/83 [==============================] - 0s 3ms/step - loss: 0.1411 - accuracy: 0.9589\n",
      "Epoch 55/100\n",
      "83/83 [==============================] - 0s 3ms/step - loss: 0.1796 - accuracy: 0.9444\n",
      "Epoch 56/100\n",
      "83/83 [==============================] - 1s 6ms/step - loss: 0.1502 - accuracy: 0.9493\n",
      "Epoch 57/100\n",
      "83/83 [==============================] - 0s 3ms/step - loss: 0.1492 - accuracy: 0.9469\n",
      "Epoch 58/100\n",
      "83/83 [==============================] - 0s 2ms/step - loss: 0.1555 - accuracy: 0.9444\n",
      "Epoch 59/100\n",
      "83/83 [==============================] - 0s 2ms/step - loss: 0.1550 - accuracy: 0.9420\n",
      "Epoch 60/100\n",
      "83/83 [==============================] - 0s 3ms/step - loss: 0.1501 - accuracy: 0.9469\n",
      "Epoch 61/100\n",
      "83/83 [==============================] - 0s 2ms/step - loss: 0.1413 - accuracy: 0.9589\n",
      "Epoch 62/100\n",
      "83/83 [==============================] - 0s 2ms/step - loss: 0.1541 - accuracy: 0.9517\n",
      "Epoch 63/100\n",
      "83/83 [==============================] - 0s 2ms/step - loss: 0.1834 - accuracy: 0.9348\n",
      "Epoch 64/100\n",
      "83/83 [==============================] - 0s 2ms/step - loss: 0.1426 - accuracy: 0.9420\n",
      "Epoch 65/100\n",
      "83/83 [==============================] - 0s 5ms/step - loss: 0.1638 - accuracy: 0.9565\n",
      "Epoch 66/100\n",
      "83/83 [==============================] - 0s 2ms/step - loss: 0.1507 - accuracy: 0.9517\n",
      "Epoch 67/100\n",
      "83/83 [==============================] - 0s 2ms/step - loss: 0.1092 - accuracy: 0.9710\n",
      "Epoch 68/100\n",
      "83/83 [==============================] - 0s 2ms/step - loss: 0.1585 - accuracy: 0.9324\n",
      "Epoch 69/100\n",
      "83/83 [==============================] - 0s 2ms/step - loss: 0.1341 - accuracy: 0.9517\n",
      "Epoch 70/100\n",
      "83/83 [==============================] - 0s 3ms/step - loss: 0.1320 - accuracy: 0.9541\n",
      "Epoch 71/100\n",
      "83/83 [==============================] - 0s 2ms/step - loss: 0.1393 - accuracy: 0.9541\n",
      "Epoch 72/100\n",
      "83/83 [==============================] - 0s 2ms/step - loss: 0.1480 - accuracy: 0.9541\n",
      "Epoch 73/100\n",
      "83/83 [==============================] - 0s 2ms/step - loss: 0.1293 - accuracy: 0.9493\n",
      "Epoch 74/100\n",
      "83/83 [==============================] - 0s 3ms/step - loss: 0.1572 - accuracy: 0.9348\n",
      "Epoch 75/100\n",
      "83/83 [==============================] - 0s 3ms/step - loss: 0.1483 - accuracy: 0.9565\n",
      "Epoch 76/100\n",
      "83/83 [==============================] - 0s 2ms/step - loss: 0.1510 - accuracy: 0.9396\n",
      "Epoch 77/100\n",
      "83/83 [==============================] - 0s 3ms/step - loss: 0.1394 - accuracy: 0.9372\n",
      "Epoch 78/100\n",
      "83/83 [==============================] - 0s 3ms/step - loss: 0.1452 - accuracy: 0.9372\n",
      "Epoch 79/100\n",
      "83/83 [==============================] - 0s 3ms/step - loss: 0.1301 - accuracy: 0.9493\n",
      "Epoch 80/100\n",
      "83/83 [==============================] - 0s 2ms/step - loss: 0.1268 - accuracy: 0.9614\n",
      "Epoch 81/100\n",
      "83/83 [==============================] - 0s 2ms/step - loss: 0.1422 - accuracy: 0.9372\n",
      "Epoch 82/100\n",
      "83/83 [==============================] - 0s 2ms/step - loss: 0.1300 - accuracy: 0.9444\n",
      "Epoch 83/100\n",
      "83/83 [==============================] - 0s 3ms/step - loss: 0.1360 - accuracy: 0.9517\n",
      "Epoch 84/100\n",
      "83/83 [==============================] - 0s 3ms/step - loss: 0.1495 - accuracy: 0.9444\n",
      "Epoch 85/100\n",
      "83/83 [==============================] - 0s 2ms/step - loss: 0.1517 - accuracy: 0.9444\n",
      "Epoch 86/100\n",
      "83/83 [==============================] - 0s 3ms/step - loss: 0.1351 - accuracy: 0.9493\n",
      "Epoch 87/100\n",
      "83/83 [==============================] - 0s 3ms/step - loss: 0.1293 - accuracy: 0.9469\n",
      "Epoch 88/100\n",
      "83/83 [==============================] - 0s 3ms/step - loss: 0.1431 - accuracy: 0.9420\n",
      "Epoch 89/100\n",
      "83/83 [==============================] - 0s 2ms/step - loss: 0.1212 - accuracy: 0.9517\n",
      "Epoch 90/100\n",
      "83/83 [==============================] - 0s 2ms/step - loss: 0.1168 - accuracy: 0.9444\n",
      "Epoch 91/100\n",
      "83/83 [==============================] - 0s 3ms/step - loss: 0.1523 - accuracy: 0.9348\n",
      "Epoch 92/100\n",
      "83/83 [==============================] - 0s 3ms/step - loss: 0.1135 - accuracy: 0.9565\n",
      "Epoch 93/100\n",
      "83/83 [==============================] - 0s 2ms/step - loss: 0.1241 - accuracy: 0.9614\n",
      "Epoch 94/100\n",
      "83/83 [==============================] - 0s 2ms/step - loss: 0.1612 - accuracy: 0.9420\n",
      "Epoch 95/100\n",
      "83/83 [==============================] - 0s 2ms/step - loss: 0.1176 - accuracy: 0.9541\n",
      "Epoch 96/100\n",
      "83/83 [==============================] - 0s 3ms/step - loss: 0.1129 - accuracy: 0.9493\n",
      "Epoch 97/100\n",
      "83/83 [==============================] - 0s 4ms/step - loss: 0.1236 - accuracy: 0.9541\n",
      "Epoch 98/100\n",
      "83/83 [==============================] - 0s 4ms/step - loss: 0.1047 - accuracy: 0.9589\n",
      "Epoch 99/100\n",
      "83/83 [==============================] - 0s 5ms/step - loss: 0.0926 - accuracy: 0.9614\n",
      "Epoch 100/100\n",
      "83/83 [==============================] - 0s 4ms/step - loss: 0.1153 - accuracy: 0.9565\n"
     ]
    }
   ],
   "metadata": {}
  },
  {
   "cell_type": "code",
   "execution_count": 9,
   "source": [
    "#save model\n",
    "model.save('save/chatbot_model.h5', hist)"
   ],
   "outputs": [],
   "metadata": {}
  },
  {
   "cell_type": "code",
   "execution_count": 10,
   "source": [
    "from matplotlib import pyplot as plt\n",
    "train_loss = hist.history['loss']\n",
    "train_acc = hist.history['accuracy']\n",
    "xc = range(epochs)\n",
    "\n",
    "plt.plot(xc,train_loss)\n",
    "plt.plot(xc,train_acc)\n",
    "plt.xlabel('num of Epochs')\n",
    "plt.ylabel('loss')\n",
    "plt.title('train_loss vs Train_accuracy')\n",
    "plt.grid(True)\n",
    "plt.legend(['Loss','Accuracy'])\n",
    "#print plt.style.available # use bmh, classic,ggplot for big pictures\n",
    "plt.style.use(['classic'])"
   ],
   "outputs": [
    {
     "output_type": "display_data",
     "data": {
      "image/png": "[encoded data removed]",
      "text/plain": [
       "<Figure size 432x288 with 1 Axes>"
      ]
     },
     "metadata": {
      "needs_background": "light"
     }
    }
   ],
   "metadata": {}
  },
  {
   "cell_type": "code",
   "execution_count": null,
   "source": [],
   "outputs": [],
   "metadata": {}
  }
 ],
 "metadata": {
  "orig_nbformat": 4,
  "language_info": {
   "name": "python",
   "version": "3.7.11",
   "mimetype": "text/x-python",
   "codemirror_mode": {
    "name": "ipython",
    "version": 3
   },
   "pygments_lexer": "ipython3",
   "nbconvert_exporter": "python",
   "file_extension": ".py"
  },
  "kernelspec": {
   "name": "python3",
   "display_name": "Python 3.7.11 64-bit ('mlai': conda)"
  },
  "interpreter": {
   "hash": "35ebf5710b4eabfcdf8f5c83ad104ed5a90d170633efc49a8df212611f0c6cfc"
  }
 },
 "nbformat": 4,
 "nbformat_minor": 2
}
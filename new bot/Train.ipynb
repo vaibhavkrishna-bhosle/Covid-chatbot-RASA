{
 "cells": [
  {
   "cell_type": "markdown",
   "source": [
    "# Imports"
   ],
   "metadata": {}
  },
  {
   "cell_type": "code",
   "execution_count": 1,
   "source": [
    "import nltk\n",
    "from nltk.stem import WordNetLemmatizer\n",
    "lemmatizer = WordNetLemmatizer()\n",
    "import json\n",
    "import pickle\n",
    "\n",
    "import numpy as np\n",
    "from tensorflow.keras.models import Sequential\n",
    "from tensorflow.keras.layers import Dense, Activation, Dropout\n",
    "from tensorflow.keras.optimizers import SGD\n",
    "import random"
   ],
   "outputs": [],
   "metadata": {}
  },
  {
   "cell_type": "code",
   "execution_count": 2,
   "source": [
    "words=[]\n",
    "classes = []\n",
    "documents = []\n",
    "ignore_words = ['?', '!']\n",
    "data_file = open('intents.json',encoding=\"utf8\").read()\n",
    "intents = json.loads(data_file)"
   ],
   "outputs": [],
   "metadata": {}
  },
  {
   "cell_type": "markdown",
   "source": [
    "## Get Intents"
   ],
   "metadata": {}
  },
  {
   "cell_type": "code",
   "execution_count": 3,
   "source": [
    "\n",
    "for intent in intents['intents']:\n",
    "    for pattern in intent['patterns']:\n",
    "\n",
    "        #tokenize each word\n",
    "        w = nltk.word_tokenize(pattern)\n",
    "        words.extend(w)\n",
    "        #add documents in the corpus\n",
    "        documents.append((w, intent['tag']))\n",
    "\n",
    "        # add to our classes list\n",
    "        if intent['tag'] not in classes:\n",
    "            classes.append(intent['tag'])"
   ],
   "outputs": [],
   "metadata": {}
  },
  {
   "cell_type": "code",
   "execution_count": 4,
   "source": [
    "# lemmaztize and lower each word and remove duplicates\n",
    "words = [lemmatizer.lemmatize(w.lower()) for w in words if w not in ignore_words]\n",
    "words = sorted(list(set(words)))\n",
    "# sort classes\n",
    "classes = sorted(list(set(classes)))\n",
    "# documents = combination between patterns and intents\n",
    "print (len(documents), \"documents\")\n",
    "# classes = intents\n",
    "print (len(classes), \"classes\", classes)\n",
    "# words = all words, vocabulary\n",
    "print (len(words), \"unique lemmatized words\", words)\n",
    "\n",
    "\n",
    "pickle.dump(words,open('save/words.pkl','wb'))\n",
    "pickle.dump(classes,open('save/classes.pkl','wb'))"
   ],
   "outputs": [
    {
     "output_type": "stream",
     "name": "stdout",
     "text": [
      "344 documents\n",
      "68 classes ['Question', 'SARS', 'Spread', 'againcv', 'airborne', 'anim', 'animals', 'anti', 'antibiotics', 'caringsomeone', 'cases worls', 'casesindia', 'childermask', 'cleaning', 'communitywork', 'cure', 'deas', 'do', 'facts', 'familystress', 'food', 'food_spread', 'funeral', 'goodbye', 'greeting', 'helplinelist', 'highbp', 'human', 'incubation', 'laterpositive', 'likely', 'mask', 'month_cal', 'mosquito', 'noanswer', 'nosymptom', 'notdo', 'occur', 'options', 'outbreak', 'package', 'pet', 'precautions', 'protect', 'protection', 'put on', 'quarantine', 'receive', 'risk', 'sanitizer', 'sars', 'source', 'spread_risk', 'stigma', 'surface', 'symptoms', 'temp', 'testforcovid', 'thanks', 'timeperiod', 'vacc', 'vaccine', 'visitplace', 'wear', 'whenmask', 'who', 'whycovid', 'worry']\n",
      "330 unique lemmatized words [\"'s\", '(', ')', ',', '-', '.', '19', '2020-01', '2020-02', '2020-03', '2020-04', '2020-05', '2020-06', '2020-07', '2020-08', '2020-09', '2020-10', '2020-11', '2020-12', '2021-01', '2021-02', '2021-03', '2021-04', '2021-05', '2021-06', '2021-07', '2021-08', '2021-09', '2021-10', '2021-11', '2021-12', 'a', 'about', 'again', 'against', 'aid', 'air', 'airboarne', 'airborne', 'all', 'am', 'ambulance', 'an', 'and', 'animal', 'antibiotic', 'any', 'anyone', 'anything', 'are', 'area', 'asumptions', 'at', 'attend', 'available', 'avoid', 'awesome', 'be', 'become', 'been', 'blood', 'born', 'by', 'bye', 'call', 'called', 'can', 'caring', 'case', 'cat', 'catch', 'caught', 'causing', 'chair', 'chance', 'chatting', 'checkup', 'child', 'childern', 'citizen', 'clean', 'cleaning', 'cloth', 'community', 'contact', 'cope', 'corona', 'coronavirus', 'could', 'covid', 'covid-19', 'covid19', 'cure', 'curing', 'day', 'destance', 'destancing', 'developed', 'developing', 'did', 'died', 'disease', 'dispose', 'distancing', 'do', 'doe', 'dog', 'door', 'drug', 'effect', 'effective', 'elderly', 'emergency', 'explain', 'fake', 'family', 'feces', 'feel', 'fever', 'fight', 'first', 'food', 'for', 'from', 'funeral', 'get', 'getting', 'go', 'good', 'goodbye', 'grandma', 'grandpa', 'guideline', 'ha', 'hand', 'handel', 'have', 'health', 'heat', 'hello', 'help', 'helpful', 'helping', 'helpline', 'hey', 'hi', 'high', 'higher', 'himself/herself', 'hola', 'how', 'human', 'hypertension', 'i', 'if', 'ill', 'illness', 'immune', 'in', 'incubation', 'india', 'infected', 'infection', 'is', 'it', 'known', 'later', 'likely', 'long', 'many', 'mask', 'material', 'me', 'measure', 'medicine', 'more', 'mosquito', 'must', 'my', 'myself', 'myth', 'necessary', 'negative', 'news', 'next', 'nice', 'no', 'normal', 'not', 'novel', 'number', 'object', 'occur', 'of', 'off', 'offered', 'old', 'on', 'once', 'online', 'or', 'organisatation', 'orign', 'others', 'our', 'outbreak', 'pack', 'package', 'page', 'paper', 'people', 'period', 'person', 'pet', 'place', 'positive', 'possible', 'precaution', 'pressure', 'prevent', 'preventing', 'prevention', 'prone', 'proper', 'protect', 'protection', 'provide', 'put', 'quarantine', 'receive', 'recovered', 'reduce', 'reference', 'related', 'report', 'reported', 'restaurant', 'right', 'risk', 'safe', 'safety', 'safty', 'same', 'sanitiser', 'sanitizer', 'sars', 'sars-cov-2', 'see', 'senior', 'service', 'severe', 'should', 'show', 'sick', 'soap', 'social', 'someone', 'source', 'spread', 'start', 'started', 'state', 'statistic', 'stats', 'stay', 'steel', 'stigma', 'stop', 'stress', 'support', 'surface', 'survive', 'symptom', 'symptons', 'table', 'take', 'taken', 'tell', 'temp', 'temperature', 'temprature', 'tension', 'test', 'tested', 'thank', 'thanks', 'that', 'the', 'therapy', 'there', 'this', 'till', 'time', 'tip', 'to', 'tollfree', 'total', 'travelled', 'treating', 'treatment', 'unwell', 'up', 'us', 'use', 'vaccine', 'viral', 'virus', 'visit', 'visiting', 'wa', 'water', 'way', 'wear', 'wearing', 'weather', 'web', 'website', 'what', 'when', 'where', 'which', 'who', 'why', 'will', 'with', 'wood', 'work', 'world', 'worry', 'you']\n"
     ]
    }
   ],
   "metadata": {}
  },
  {
   "cell_type": "markdown",
   "source": [
    "## Create training data"
   ],
   "metadata": {}
  },
  {
   "cell_type": "code",
   "execution_count": 5,
   "source": [
    "# create our training data\n",
    "training = []\n",
    "# create an empty array for our output\n",
    "output_empty = [0] * len(classes)\n",
    "# training set, bag of words for each sentence\n",
    "for doc in documents:\n",
    "    # initialize our bag of words\n",
    "    bag = []\n",
    "    # list of tokenized words for the pattern\n",
    "    pattern_words = doc[0]\n",
    "    # lemmatize each word - create base word, in attempt to represent related words\n",
    "    pattern_words = [lemmatizer.lemmatize(word.lower()) for word in pattern_words]\n",
    "    # create our bag of words array with 1, if word match found in current pattern\n",
    "    for w in words:\n",
    "        bag.append(1) if w in pattern_words else bag.append(0)\n",
    "\n",
    "    # output is a '0' for each tag and '1' for current tag (for each pattern)\n",
    "    output_row = list(output_empty)\n",
    "    output_row[classes.index(doc[1])] = 1\n",
    "\n",
    "    training.append([bag, output_row])\n",
    "# shuffle our features and turn into np.array\n",
    "random.shuffle(training)\n",
    "training = np.array(training)\n",
    "# create train and test lists. X - patterns, Y - intents\n",
    "train_x = list(training[:,0])\n",
    "train_y = list(training[:,1])\n",
    "print(\"Training data created\")"
   ],
   "outputs": [
    {
     "output_type": "stream",
     "name": "stdout",
     "text": [
      "Training data created\n"
     ]
    },
    {
     "output_type": "stream",
     "name": "stderr",
     "text": [
      "/Users/vaibhavkrishnabhosle/opt/anaconda3/envs/mlai/lib/python3.7/site-packages/ipykernel_launcher.py:24: VisibleDeprecationWarning: Creating an ndarray from ragged nested sequences (which is a list-or-tuple of lists-or-tuples-or ndarrays with different lengths or shapes) is deprecated. If you meant to do this, you must specify 'dtype=object' when creating the ndarray\n"
     ]
    }
   ],
   "metadata": {}
  },
  {
   "cell_type": "code",
   "execution_count": 6,
   "source": [
    "# Create model - 3 layers. First layer 128 neurons, second layer 64 neurons and 3rd output layer contains number of neurons\n",
    "# equal to number of intents to predict output intent with softmax\n",
    "model = Sequential()\n",
    "model.add(Dense(128, input_shape=(len(train_x[0]),), activation='relu'))\n",
    "model.add(Dropout(0.3))\n",
    "model.add(Dense(64, activation='relu'))\n",
    "model.add(Dropout(0.3))\n",
    "model.add(Dense(len(train_y[0]), activation='softmax'))"
   ],
   "outputs": [
    {
     "output_type": "stream",
     "name": "stderr",
     "text": [
      "2021-09-19 16:34:49.663794: I tensorflow/core/platform/cpu_feature_guard.cc:142] This TensorFlow binary is optimized with oneAPI Deep Neural Network Library (oneDNN) to use the following CPU instructions in performance-critical operations:  AVX2 FMA\n",
      "To enable them in other operations, rebuild TensorFlow with the appropriate compiler flags.\n"
     ]
    }
   ],
   "metadata": {}
  },
  {
   "cell_type": "code",
   "execution_count": 7,
   "source": [
    "epochs = 100"
   ],
   "outputs": [],
   "metadata": {}
  },
  {
   "cell_type": "code",
   "execution_count": 8,
   "source": [
    "\n",
    "# Compile model. Stochastic gradient descent with Nesterov accelerated gradient gives good results for this model\n",
    "sgd = SGD(lr=0.01, decay=1e-6, momentum=0.9, nesterov=True)\n",
    "model.compile(loss='categorical_crossentropy', optimizer=sgd, metrics=['accuracy'])\n",
    "\n",
    "#fitting and saving the model\n",
    "hist = model.fit(np.array(train_x), np.array(train_y), epochs=epochs, batch_size=5, verbose=1)"
   ],
   "outputs": [
    {
     "output_type": "stream",
     "name": "stderr",
     "text": [
      "/Users/vaibhavkrishnabhosle/opt/anaconda3/envs/mlai/lib/python3.7/site-packages/tensorflow/python/keras/optimizer_v2/optimizer_v2.py:375: UserWarning: The `lr` argument is deprecated, use `learning_rate` instead.\n",
      "  \"The `lr` argument is deprecated, use `learning_rate` instead.\")\n",
      "2021-09-19 16:34:51.568331: I tensorflow/compiler/mlir/mlir_graph_optimization_pass.cc:176] None of the MLIR Optimization Passes are enabled (registered 2)\n"
     ]
    },
    {
     "output_type": "stream",
     "name": "stdout",
     "text": [
      "Epoch 1/100\n",
      "69/69 [==============================] - 1s 2ms/step - loss: 4.1101 - accuracy: 0.0552\n",
      "Epoch 2/100\n",
      "69/69 [==============================] - 0s 3ms/step - loss: 3.7076 - accuracy: 0.1512\n",
      "Epoch 3/100\n",
      "69/69 [==============================] - 0s 4ms/step - loss: 3.3862 - accuracy: 0.1890\n",
      "Epoch 4/100\n",
      "69/69 [==============================] - 0s 2ms/step - loss: 3.0566 - accuracy: 0.2936\n",
      "Epoch 5/100\n",
      "69/69 [==============================] - 0s 2ms/step - loss: 2.7848 - accuracy: 0.3605\n",
      "Epoch 6/100\n",
      "69/69 [==============================] - 0s 2ms/step - loss: 2.5439 - accuracy: 0.3924\n",
      "Epoch 7/100\n",
      "69/69 [==============================] - 0s 2ms/step - loss: 2.2786 - accuracy: 0.4448\n",
      "Epoch 8/100\n",
      "69/69 [==============================] - 0s 3ms/step - loss: 1.9950 - accuracy: 0.5058\n",
      "Epoch 9/100\n",
      "69/69 [==============================] - 0s 2ms/step - loss: 1.7270 - accuracy: 0.5785\n",
      "Epoch 10/100\n",
      "69/69 [==============================] - 0s 2ms/step - loss: 1.6023 - accuracy: 0.5930\n",
      "Epoch 11/100\n",
      "69/69 [==============================] - 0s 2ms/step - loss: 1.4119 - accuracy: 0.6308\n",
      "Epoch 12/100\n",
      "69/69 [==============================] - 0s 2ms/step - loss: 1.2612 - accuracy: 0.6657\n",
      "Epoch 13/100\n",
      "69/69 [==============================] - 0s 2ms/step - loss: 1.1779 - accuracy: 0.6744\n",
      "Epoch 14/100\n",
      "69/69 [==============================] - 0s 3ms/step - loss: 1.0230 - accuracy: 0.7209\n",
      "Epoch 15/100\n",
      "69/69 [==============================] - 0s 3ms/step - loss: 0.9108 - accuracy: 0.7616\n",
      "Epoch 16/100\n",
      "69/69 [==============================] - 0s 2ms/step - loss: 0.8410 - accuracy: 0.7733\n",
      "Epoch 17/100\n",
      "69/69 [==============================] - 0s 2ms/step - loss: 0.7209 - accuracy: 0.8052\n",
      "Epoch 18/100\n",
      "69/69 [==============================] - 0s 2ms/step - loss: 0.6359 - accuracy: 0.8314\n",
      "Epoch 19/100\n",
      "69/69 [==============================] - 0s 2ms/step - loss: 0.5934 - accuracy: 0.8401\n",
      "Epoch 20/100\n",
      "69/69 [==============================] - 0s 3ms/step - loss: 0.5303 - accuracy: 0.8663\n",
      "Epoch 21/100\n",
      "69/69 [==============================] - 0s 4ms/step - loss: 0.4959 - accuracy: 0.8663\n",
      "Epoch 22/100\n",
      "69/69 [==============================] - 0s 3ms/step - loss: 0.5041 - accuracy: 0.8517\n",
      "Epoch 23/100\n",
      "69/69 [==============================] - 0s 2ms/step - loss: 0.4831 - accuracy: 0.8343\n",
      "Epoch 24/100\n",
      "69/69 [==============================] - 0s 3ms/step - loss: 0.4502 - accuracy: 0.8808\n",
      "Epoch 25/100\n",
      "69/69 [==============================] - 0s 4ms/step - loss: 0.3862 - accuracy: 0.9012\n",
      "Epoch 26/100\n",
      "69/69 [==============================] - 0s 2ms/step - loss: 0.3605 - accuracy: 0.9041\n",
      "Epoch 27/100\n",
      "69/69 [==============================] - 0s 2ms/step - loss: 0.3626 - accuracy: 0.8866\n",
      "Epoch 28/100\n",
      "69/69 [==============================] - 0s 3ms/step - loss: 0.3489 - accuracy: 0.8895\n",
      "Epoch 29/100\n",
      "69/69 [==============================] - 0s 2ms/step - loss: 0.3548 - accuracy: 0.8837\n",
      "Epoch 30/100\n",
      "69/69 [==============================] - 0s 3ms/step - loss: 0.3117 - accuracy: 0.9070\n",
      "Epoch 31/100\n",
      "69/69 [==============================] - 0s 3ms/step - loss: 0.2856 - accuracy: 0.9157\n",
      "Epoch 32/100\n",
      "69/69 [==============================] - 0s 2ms/step - loss: 0.3224 - accuracy: 0.8953\n",
      "Epoch 33/100\n",
      "69/69 [==============================] - 0s 2ms/step - loss: 0.2585 - accuracy: 0.9215\n",
      "Epoch 34/100\n",
      "69/69 [==============================] - 0s 2ms/step - loss: 0.3042 - accuracy: 0.9070\n",
      "Epoch 35/100\n",
      "69/69 [==============================] - 0s 3ms/step - loss: 0.2851 - accuracy: 0.9099\n",
      "Epoch 36/100\n",
      "69/69 [==============================] - 0s 4ms/step - loss: 0.2948 - accuracy: 0.9041\n",
      "Epoch 37/100\n",
      "69/69 [==============================] - 0s 3ms/step - loss: 0.2294 - accuracy: 0.9157\n",
      "Epoch 38/100\n",
      "69/69 [==============================] - 0s 5ms/step - loss: 0.2544 - accuracy: 0.9273\n",
      "Epoch 39/100\n",
      "69/69 [==============================] - 0s 6ms/step - loss: 0.2549 - accuracy: 0.9302\n",
      "Epoch 40/100\n",
      "69/69 [==============================] - 0s 3ms/step - loss: 0.2432 - accuracy: 0.9273\n",
      "Epoch 41/100\n",
      "69/69 [==============================] - 0s 2ms/step - loss: 0.2695 - accuracy: 0.9302\n",
      "Epoch 42/100\n",
      "69/69 [==============================] - 0s 2ms/step - loss: 0.2521 - accuracy: 0.9186\n",
      "Epoch 43/100\n",
      "69/69 [==============================] - 0s 2ms/step - loss: 0.2355 - accuracy: 0.9157\n",
      "Epoch 44/100\n",
      "69/69 [==============================] - 0s 4ms/step - loss: 0.2316 - accuracy: 0.9360\n",
      "Epoch 45/100\n",
      "69/69 [==============================] - 0s 2ms/step - loss: 0.2250 - accuracy: 0.9331\n",
      "Epoch 46/100\n",
      "69/69 [==============================] - 0s 2ms/step - loss: 0.1992 - accuracy: 0.9244\n",
      "Epoch 47/100\n",
      "69/69 [==============================] - 0s 2ms/step - loss: 0.1913 - accuracy: 0.9360\n",
      "Epoch 48/100\n",
      "69/69 [==============================] - 0s 2ms/step - loss: 0.1710 - accuracy: 0.9448\n",
      "Epoch 49/100\n",
      "69/69 [==============================] - 0s 2ms/step - loss: 0.2068 - accuracy: 0.9244\n",
      "Epoch 50/100\n",
      "69/69 [==============================] - 0s 2ms/step - loss: 0.1695 - accuracy: 0.9390\n",
      "Epoch 51/100\n",
      "69/69 [==============================] - 0s 4ms/step - loss: 0.1863 - accuracy: 0.9390\n",
      "Epoch 52/100\n",
      "69/69 [==============================] - 0s 2ms/step - loss: 0.1657 - accuracy: 0.9622\n",
      "Epoch 53/100\n",
      "69/69 [==============================] - 0s 2ms/step - loss: 0.1572 - accuracy: 0.9390\n",
      "Epoch 54/100\n",
      "69/69 [==============================] - 0s 3ms/step - loss: 0.1620 - accuracy: 0.9477\n",
      "Epoch 55/100\n",
      "69/69 [==============================] - 0s 2ms/step - loss: 0.1858 - accuracy: 0.9448\n",
      "Epoch 56/100\n",
      "69/69 [==============================] - 0s 4ms/step - loss: 0.1579 - accuracy: 0.9506\n",
      "Epoch 57/100\n",
      "69/69 [==============================] - 0s 2ms/step - loss: 0.1807 - accuracy: 0.9331\n",
      "Epoch 58/100\n",
      "69/69 [==============================] - 0s 2ms/step - loss: 0.1771 - accuracy: 0.9390\n",
      "Epoch 59/100\n",
      "69/69 [==============================] - 0s 2ms/step - loss: 0.1697 - accuracy: 0.9448\n",
      "Epoch 60/100\n",
      "69/69 [==============================] - 0s 2ms/step - loss: 0.1498 - accuracy: 0.9477\n",
      "Epoch 61/100\n",
      "69/69 [==============================] - 0s 2ms/step - loss: 0.1851 - accuracy: 0.9360\n",
      "Epoch 62/100\n",
      "69/69 [==============================] - 0s 3ms/step - loss: 0.1658 - accuracy: 0.9390\n",
      "Epoch 63/100\n",
      "69/69 [==============================] - 0s 3ms/step - loss: 0.1685 - accuracy: 0.9273\n",
      "Epoch 64/100\n",
      "69/69 [==============================] - 0s 3ms/step - loss: 0.1489 - accuracy: 0.9448\n",
      "Epoch 65/100\n",
      "69/69 [==============================] - 0s 2ms/step - loss: 0.1614 - accuracy: 0.9390\n",
      "Epoch 66/100\n",
      "69/69 [==============================] - 0s 2ms/step - loss: 0.1452 - accuracy: 0.9448\n",
      "Epoch 67/100\n",
      "69/69 [==============================] - 0s 2ms/step - loss: 0.1841 - accuracy: 0.9360\n",
      "Epoch 68/100\n",
      "69/69 [==============================] - 0s 3ms/step - loss: 0.1258 - accuracy: 0.9535\n",
      "Epoch 69/100\n",
      "69/69 [==============================] - 0s 2ms/step - loss: 0.1721 - accuracy: 0.9302\n",
      "Epoch 70/100\n",
      "69/69 [==============================] - 0s 2ms/step - loss: 0.1139 - accuracy: 0.9477\n",
      "Epoch 71/100\n",
      "69/69 [==============================] - 0s 2ms/step - loss: 0.1340 - accuracy: 0.9419\n",
      "Epoch 72/100\n",
      "69/69 [==============================] - 0s 2ms/step - loss: 0.1401 - accuracy: 0.9477\n",
      "Epoch 73/100\n",
      "69/69 [==============================] - 0s 2ms/step - loss: 0.1728 - accuracy: 0.9419\n",
      "Epoch 74/100\n",
      "69/69 [==============================] - 0s 3ms/step - loss: 0.1366 - accuracy: 0.9564\n",
      "Epoch 75/100\n",
      "69/69 [==============================] - 0s 3ms/step - loss: 0.1724 - accuracy: 0.9419\n",
      "Epoch 76/100\n",
      "69/69 [==============================] - 0s 2ms/step - loss: 0.1454 - accuracy: 0.9448\n",
      "Epoch 77/100\n",
      "69/69 [==============================] - 0s 2ms/step - loss: 0.1157 - accuracy: 0.9506\n",
      "Epoch 78/100\n",
      "69/69 [==============================] - 0s 2ms/step - loss: 0.1147 - accuracy: 0.9448\n",
      "Epoch 79/100\n",
      "69/69 [==============================] - 0s 2ms/step - loss: 0.1278 - accuracy: 0.9564\n",
      "Epoch 80/100\n",
      "69/69 [==============================] - 0s 2ms/step - loss: 0.1269 - accuracy: 0.9564\n",
      "Epoch 81/100\n",
      "69/69 [==============================] - 0s 3ms/step - loss: 0.1524 - accuracy: 0.9360\n",
      "Epoch 82/100\n",
      "69/69 [==============================] - 0s 2ms/step - loss: 0.1340 - accuracy: 0.9477\n",
      "Epoch 83/100\n",
      "69/69 [==============================] - 0s 2ms/step - loss: 0.1338 - accuracy: 0.9564\n",
      "Epoch 84/100\n",
      "69/69 [==============================] - 0s 3ms/step - loss: 0.1231 - accuracy: 0.9477\n",
      "Epoch 85/100\n",
      "69/69 [==============================] - 0s 2ms/step - loss: 0.1524 - accuracy: 0.9302\n",
      "Epoch 86/100\n",
      "69/69 [==============================] - 0s 3ms/step - loss: 0.1126 - accuracy: 0.9535\n",
      "Epoch 87/100\n",
      "69/69 [==============================] - 0s 3ms/step - loss: 0.1198 - accuracy: 0.9419\n",
      "Epoch 88/100\n",
      "69/69 [==============================] - 0s 2ms/step - loss: 0.1264 - accuracy: 0.9448\n",
      "Epoch 89/100\n",
      "69/69 [==============================] - 0s 2ms/step - loss: 0.1532 - accuracy: 0.9331\n",
      "Epoch 90/100\n",
      "69/69 [==============================] - 0s 2ms/step - loss: 0.1509 - accuracy: 0.9419\n",
      "Epoch 91/100\n",
      "69/69 [==============================] - 0s 2ms/step - loss: 0.1083 - accuracy: 0.9593\n",
      "Epoch 92/100\n",
      "69/69 [==============================] - 0s 3ms/step - loss: 0.1313 - accuracy: 0.9448\n",
      "Epoch 93/100\n",
      "69/69 [==============================] - 0s 2ms/step - loss: 0.1212 - accuracy: 0.9448\n",
      "Epoch 94/100\n",
      "69/69 [==============================] - 0s 2ms/step - loss: 0.1160 - accuracy: 0.9448\n",
      "Epoch 95/100\n",
      "69/69 [==============================] - 0s 2ms/step - loss: 0.1087 - accuracy: 0.9593\n",
      "Epoch 96/100\n",
      "69/69 [==============================] - 0s 2ms/step - loss: 0.1307 - accuracy: 0.9331\n",
      "Epoch 97/100\n",
      "69/69 [==============================] - 0s 2ms/step - loss: 0.1042 - accuracy: 0.9506\n",
      "Epoch 98/100\n",
      "69/69 [==============================] - 0s 2ms/step - loss: 0.1015 - accuracy: 0.9564\n",
      "Epoch 99/100\n",
      "69/69 [==============================] - 0s 3ms/step - loss: 0.1203 - accuracy: 0.9448\n",
      "Epoch 100/100\n",
      "69/69 [==============================] - 0s 2ms/step - loss: 0.1043 - accuracy: 0.9593\n"
     ]
    }
   ],
   "metadata": {}
  },
  {
   "cell_type": "code",
   "execution_count": 9,
   "source": [
    "#save model\n",
    "model.save('save/chatbot_model.h5', hist)"
   ],
   "outputs": [],
   "metadata": {}
  },
  {
   "cell_type": "code",
   "execution_count": 10,
   "source": [
    "from matplotlib import pyplot as plt\n",
    "train_loss = hist.history['loss']\n",
    "train_acc = hist.history['accuracy']\n",
    "xc = range(epochs)\n",
    "\n",
    "plt.plot(xc,train_loss)\n",
    "plt.plot(xc,train_acc)\n",
    "plt.xlabel('num of Epochs')\n",
    "plt.ylabel('loss')\n",
    "plt.title('train_loss vs Train_accuracy')\n",
    "plt.grid(True)\n",
    "plt.legend(['Loss','Accuracy'])\n",
    "#print plt.style.available # use bmh, classic,ggplot for big pictures\n",
    "plt.style.use(['classic'])"
   ],
   "outputs": [
    {
     "output_type": "display_data",
     "data": {
      "image/png": "[encoded data removed]",
      "text/plain": [
       "<Figure size 432x288 with 1 Axes>"
      ]
     },
     "metadata": {
      "needs_background": "light"
     }
    }
   ],
   "metadata": {}
  },
  {
   "cell_type": "code",
   "execution_count": null,
   "source": [],
   "outputs": [],
   "metadata": {}
  }
 ],
 "metadata": {
  "orig_nbformat": 4,
  "language_info": {
   "name": "python",
   "version": "3.7.11",
   "mimetype": "text/x-python",
   "codemirror_mode": {
    "name": "ipython",
    "version": 3
   },
   "pygments_lexer": "ipython3",
   "nbconvert_exporter": "python",
   "file_extension": ".py"
  },
  "kernelspec": {
   "name": "python3",
   "display_name": "Python 3.7.11 64-bit ('mlai': conda)"
  },
  "interpreter": {
   "hash": "35ebf5710b4eabfcdf8f5c83ad104ed5a90d170633efc49a8df212611f0c6cfc"
  }
 },
 "nbformat": 4,
 "nbformat_minor": 2
}
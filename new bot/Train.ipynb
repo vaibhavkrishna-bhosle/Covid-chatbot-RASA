{
 "cells": [
  {
   "cell_type": "markdown",
   "source": [
    "# Imports"
   ],
   "metadata": {}
  },
  {
   "cell_type": "code",
   "execution_count": 1,
   "source": [
    "import nltk\n",
    "from nltk.stem import WordNetLemmatizer\n",
    "lemmatizer = WordNetLemmatizer()\n",
    "import json\n",
    "import pickle\n",
    "\n",
    "import numpy as np\n",
    "from tensorflow.keras.models import Sequential\n",
    "from tensorflow.keras.layers import Dense, Activation, Dropout\n",
    "from tensorflow.keras.optimizers import SGD\n",
    "import random"
   ],
   "outputs": [],
   "metadata": {}
  },
  {
   "cell_type": "code",
   "execution_count": 2,
   "source": [
    "words=[]\n",
    "classes = []\n",
    "documents = []\n",
    "ignore_words = ['?', '!']\n",
    "data_file = open('intents.json',encoding=\"utf8\").read()\n",
    "intents = json.loads(data_file)"
   ],
   "outputs": [],
   "metadata": {}
  },
  {
   "cell_type": "markdown",
   "source": [
    "## Get Intents"
   ],
   "metadata": {}
  },
  {
   "cell_type": "code",
   "execution_count": 3,
   "source": [
    "\n",
    "for intent in intents['intents']:\n",
    "    for pattern in intent['patterns']:\n",
    "\n",
    "        #tokenize each word\n",
    "        w = nltk.word_tokenize(pattern)\n",
    "        words.extend(w)\n",
    "        #add documents in the corpus\n",
    "        documents.append((w, intent['tag']))\n",
    "\n",
    "        # add to our classes list\n",
    "        if intent['tag'] not in classes:\n",
    "            classes.append(intent['tag'])"
   ],
   "outputs": [],
   "metadata": {}
  },
  {
   "cell_type": "code",
   "execution_count": 4,
   "source": [
    "# lemmaztize and lower each word and remove duplicates\n",
    "words = [lemmatizer.lemmatize(w.lower()) for w in words if w not in ignore_words]\n",
    "words = sorted(list(set(words)))\n",
    "# sort classes\n",
    "classes = sorted(list(set(classes)))\n",
    "# documents = combination between patterns and intents\n",
    "print (len(documents), \"documents\")\n",
    "# classes = intents\n",
    "print (len(classes), \"classes\", classes)\n",
    "# words = all words, vocabulary\n",
    "print (len(words), \"unique lemmatized words\", words)\n",
    "\n",
    "\n",
    "pickle.dump(words,open('words.pkl','wb'))\n",
    "pickle.dump(classes,open('classes.pkl','wb'))"
   ],
   "outputs": [
    {
     "output_type": "stream",
     "name": "stdout",
     "text": [
      "320 documents\n",
      "67 classes ['Question', 'SARS', 'Spread', 'againcv', 'airborne', 'anim', 'animals', 'anti', 'antibiotics', 'caringsomeone', 'cases worls', 'casesindia', 'childermask', 'cleaning', 'communitywork', 'cure', 'deas', 'do', 'facts', 'familystress', 'food', 'food_spread', 'funeral', 'goodbye', 'greeting', 'helplinelist', 'highbp', 'human', 'incubation', 'laterpositive', 'likely', 'mask', 'mosquito', 'noanswer', 'nosymptom', 'notdo', 'occur', 'options', 'outbreak', 'package', 'pet', 'precautions', 'protect', 'protection', 'put on', 'quarantine', 'receive', 'risk', 'sanitizer', 'sars', 'source', 'spread_risk', 'stigma', 'surface', 'symptoms', 'temp', 'testforcovid', 'thanks', 'timeperiod', 'vacc', 'vaccine', 'visitplace', 'wear', 'whenmask', 'who', 'whycovid', 'worry']\n",
      "306 unique lemmatized words [\"'s\", '(', ')', ',', '-', '.', '19', 'a', 'about', 'again', 'against', 'aid', 'air', 'airboarne', 'airborne', 'all', 'am', 'ambulance', 'an', 'and', 'animal', 'antibiotic', 'any', 'anyone', 'anything', 'are', 'area', 'asumptions', 'at', 'attend', 'available', 'avoid', 'awesome', 'be', 'become', 'been', 'blood', 'born', 'by', 'bye', 'call', 'called', 'can', 'caring', 'case', 'cat', 'catch', 'caught', 'causing', 'chair', 'chance', 'chatting', 'checkup', 'child', 'childern', 'citizen', 'clean', 'cleaning', 'cloth', 'community', 'contact', 'cope', 'corona', 'coronavirus', 'could', 'covid', 'covid-19', 'covid19', 'cure', 'curing', 'day', 'destance', 'destancing', 'developed', 'developing', 'did', 'died', 'disease', 'dispose', 'distancing', 'do', 'doe', 'dog', 'door', 'drug', 'effect', 'effective', 'elderly', 'emergency', 'explain', 'fake', 'family', 'feces', 'feel', 'fever', 'fight', 'first', 'food', 'for', 'from', 'funeral', 'get', 'getting', 'go', 'good', 'goodbye', 'grandma', 'grandpa', 'guideline', 'ha', 'hand', 'handel', 'have', 'health', 'heat', 'hello', 'help', 'helpful', 'helping', 'helpline', 'hey', 'hi', 'high', 'higher', 'himself/herself', 'hola', 'how', 'human', 'hypertension', 'i', 'if', 'ill', 'illness', 'immune', 'in', 'incubation', 'india', 'infected', 'infection', 'is', 'it', 'known', 'later', 'likely', 'long', 'many', 'mask', 'material', 'me', 'measure', 'medicine', 'more', 'mosquito', 'must', 'my', 'myself', 'myth', 'necessary', 'negative', 'news', 'next', 'nice', 'no', 'normal', 'not', 'novel', 'number', 'object', 'occur', 'of', 'off', 'offered', 'old', 'on', 'once', 'online', 'or', 'organisatation', 'orign', 'others', 'our', 'outbreak', 'pack', 'package', 'page', 'paper', 'people', 'period', 'person', 'pet', 'place', 'positive', 'possible', 'precaution', 'pressure', 'prevent', 'preventing', 'prevention', 'prone', 'proper', 'protect', 'protection', 'provide', 'put', 'quarantine', 'receive', 'recovered', 'reduce', 'reference', 'related', 'report', 'reported', 'restaurant', 'right', 'risk', 'safe', 'safety', 'safty', 'same', 'sanitiser', 'sanitizer', 'sars', 'sars-cov-2', 'see', 'senior', 'service', 'severe', 'should', 'show', 'sick', 'soap', 'social', 'someone', 'source', 'spread', 'start', 'started', 'state', 'statistic', 'stats', 'stay', 'steel', 'stigma', 'stop', 'stress', 'support', 'surface', 'survive', 'symptom', 'symptons', 'table', 'take', 'taken', 'tell', 'temp', 'temperature', 'temprature', 'tension', 'test', 'tested', 'thank', 'thanks', 'that', 'the', 'therapy', 'there', 'this', 'till', 'time', 'tip', 'to', 'tollfree', 'total', 'travelled', 'treating', 'treatment', 'unwell', 'up', 'us', 'use', 'vaccine', 'viral', 'virus', 'visit', 'visiting', 'wa', 'water', 'way', 'wear', 'wearing', 'weather', 'web', 'website', 'what', 'when', 'where', 'which', 'who', 'why', 'will', 'with', 'wood', 'work', 'world', 'worry', 'you']\n"
     ]
    }
   ],
   "metadata": {}
  },
  {
   "cell_type": "markdown",
   "source": [
    "## Create training data"
   ],
   "metadata": {}
  },
  {
   "cell_type": "code",
   "execution_count": 5,
   "source": [
    "# create our training data\n",
    "training = []\n",
    "# create an empty array for our output\n",
    "output_empty = [0] * len(classes)\n",
    "# training set, bag of words for each sentence\n",
    "for doc in documents:\n",
    "    # initialize our bag of words\n",
    "    bag = []\n",
    "    # list of tokenized words for the pattern\n",
    "    pattern_words = doc[0]\n",
    "    # lemmatize each word - create base word, in attempt to represent related words\n",
    "    pattern_words = [lemmatizer.lemmatize(word.lower()) for word in pattern_words]\n",
    "    # create our bag of words array with 1, if word match found in current pattern\n",
    "    for w in words:\n",
    "        bag.append(1) if w in pattern_words else bag.append(0)\n",
    "\n",
    "    # output is a '0' for each tag and '1' for current tag (for each pattern)\n",
    "    output_row = list(output_empty)\n",
    "    output_row[classes.index(doc[1])] = 1\n",
    "\n",
    "    training.append([bag, output_row])\n",
    "# shuffle our features and turn into np.array\n",
    "random.shuffle(training)\n",
    "training = np.array(training)\n",
    "# create train and test lists. X - patterns, Y - intents\n",
    "train_x = list(training[:,0])\n",
    "train_y = list(training[:,1])\n",
    "print(\"Training data created\")"
   ],
   "outputs": [
    {
     "output_type": "stream",
     "name": "stdout",
     "text": [
      "Training data created\n"
     ]
    },
    {
     "output_type": "stream",
     "name": "stderr",
     "text": [
      "/Users/vaibhavkrishnabhosle/opt/anaconda3/envs/mlai/lib/python3.7/site-packages/ipykernel_launcher.py:24: VisibleDeprecationWarning: Creating an ndarray from ragged nested sequences (which is a list-or-tuple of lists-or-tuples-or ndarrays with different lengths or shapes) is deprecated. If you meant to do this, you must specify 'dtype=object' when creating the ndarray\n"
     ]
    }
   ],
   "metadata": {}
  },
  {
   "cell_type": "code",
   "execution_count": 6,
   "source": [
    "# Create model - 3 layers. First layer 128 neurons, second layer 64 neurons and 3rd output layer contains number of neurons\n",
    "# equal to number of intents to predict output intent with softmax\n",
    "model = Sequential()\n",
    "model.add(Dense(128, input_shape=(len(train_x[0]),), activation='relu'))\n",
    "model.add(Dropout(0.3))\n",
    "model.add(Dense(64, activation='relu'))\n",
    "model.add(Dropout(0.3))\n",
    "model.add(Dense(len(train_y[0]), activation='softmax'))"
   ],
   "outputs": [
    {
     "output_type": "stream",
     "name": "stderr",
     "text": [
      "2021-09-19 15:56:22.805089: I tensorflow/core/platform/cpu_feature_guard.cc:142] This TensorFlow binary is optimized with oneAPI Deep Neural Network Library (oneDNN) to use the following CPU instructions in performance-critical operations:  AVX2 FMA\n",
      "To enable them in other operations, rebuild TensorFlow with the appropriate compiler flags.\n"
     ]
    }
   ],
   "metadata": {}
  },
  {
   "cell_type": "code",
   "execution_count": 7,
   "source": [
    "epochs = 100"
   ],
   "outputs": [],
   "metadata": {}
  },
  {
   "cell_type": "code",
   "execution_count": 8,
   "source": [
    "\n",
    "# Compile model. Stochastic gradient descent with Nesterov accelerated gradient gives good results for this model\n",
    "sgd = SGD(lr=0.01, decay=1e-6, momentum=0.9, nesterov=True)\n",
    "model.compile(loss='categorical_crossentropy', optimizer=sgd, metrics=['accuracy'])\n",
    "\n",
    "#fitting and saving the model\n",
    "hist = model.fit(np.array(train_x), np.array(train_y), epochs=epochs, batch_size=5, verbose=1)\n",
    "model.save('chatbot_model.h5', hist)\n",
    "\n",
    "print(\"model created\")"
   ],
   "outputs": [
    {
     "output_type": "stream",
     "name": "stderr",
     "text": [
      "/Users/vaibhavkrishnabhosle/opt/anaconda3/envs/mlai/lib/python3.7/site-packages/tensorflow/python/keras/optimizer_v2/optimizer_v2.py:375: UserWarning: The `lr` argument is deprecated, use `learning_rate` instead.\n",
      "  \"The `lr` argument is deprecated, use `learning_rate` instead.\")\n",
      "2021-09-19 15:56:24.300257: I tensorflow/compiler/mlir/mlir_graph_optimization_pass.cc:176] None of the MLIR Optimization Passes are enabled (registered 2)\n"
     ]
    },
    {
     "output_type": "stream",
     "name": "stdout",
     "text": [
      "Epoch 1/100\n",
      "64/64 [==============================] - 1s 2ms/step - loss: 4.1140 - accuracy: 0.0969\n",
      "Epoch 2/100\n",
      "64/64 [==============================] - 0s 2ms/step - loss: 3.7679 - accuracy: 0.1406\n",
      "Epoch 3/100\n",
      "64/64 [==============================] - 0s 2ms/step - loss: 3.3802 - accuracy: 0.2313\n",
      "Epoch 4/100\n",
      "64/64 [==============================] - 0s 2ms/step - loss: 3.0776 - accuracy: 0.2969\n",
      "Epoch 5/100\n",
      "64/64 [==============================] - 0s 2ms/step - loss: 2.7838 - accuracy: 0.3375\n",
      "Epoch 6/100\n",
      "64/64 [==============================] - 0s 2ms/step - loss: 2.5084 - accuracy: 0.4094\n",
      "Epoch 7/100\n",
      "64/64 [==============================] - 0s 2ms/step - loss: 2.2436 - accuracy: 0.4437\n",
      "Epoch 8/100\n",
      "64/64 [==============================] - 0s 2ms/step - loss: 2.0430 - accuracy: 0.4781\n",
      "Epoch 9/100\n",
      "64/64 [==============================] - 0s 2ms/step - loss: 1.9018 - accuracy: 0.5156\n",
      "Epoch 10/100\n",
      "64/64 [==============================] - 0s 2ms/step - loss: 1.6334 - accuracy: 0.5719\n",
      "Epoch 11/100\n",
      "64/64 [==============================] - 0s 1ms/step - loss: 1.4969 - accuracy: 0.6500\n",
      "Epoch 12/100\n",
      "64/64 [==============================] - 0s 2ms/step - loss: 1.3627 - accuracy: 0.6094\n",
      "Epoch 13/100\n",
      "64/64 [==============================] - 0s 2ms/step - loss: 1.2151 - accuracy: 0.6594\n",
      "Epoch 14/100\n",
      "64/64 [==============================] - 0s 2ms/step - loss: 1.0566 - accuracy: 0.7125\n",
      "Epoch 15/100\n",
      "64/64 [==============================] - 0s 2ms/step - loss: 1.0697 - accuracy: 0.7000\n",
      "Epoch 16/100\n",
      "64/64 [==============================] - 0s 2ms/step - loss: 0.8555 - accuracy: 0.7625\n",
      "Epoch 17/100\n",
      "64/64 [==============================] - 0s 2ms/step - loss: 0.8257 - accuracy: 0.7937\n",
      "Epoch 18/100\n",
      "64/64 [==============================] - 0s 2ms/step - loss: 0.7770 - accuracy: 0.7781\n",
      "Epoch 19/100\n",
      "64/64 [==============================] - 0s 2ms/step - loss: 0.7169 - accuracy: 0.7719\n",
      "Epoch 20/100\n",
      "64/64 [==============================] - 0s 2ms/step - loss: 0.6563 - accuracy: 0.8188\n",
      "Epoch 21/100\n",
      "64/64 [==============================] - 0s 2ms/step - loss: 0.5666 - accuracy: 0.8156\n",
      "Epoch 22/100\n",
      "64/64 [==============================] - 0s 2ms/step - loss: 0.6000 - accuracy: 0.8406\n",
      "Epoch 23/100\n",
      "64/64 [==============================] - 0s 3ms/step - loss: 0.4890 - accuracy: 0.8656\n",
      "Epoch 24/100\n",
      "64/64 [==============================] - 0s 2ms/step - loss: 0.4295 - accuracy: 0.8844\n",
      "Epoch 25/100\n",
      "64/64 [==============================] - 0s 2ms/step - loss: 0.4868 - accuracy: 0.8344\n",
      "Epoch 26/100\n",
      "64/64 [==============================] - 0s 2ms/step - loss: 0.3699 - accuracy: 0.9031\n",
      "Epoch 27/100\n",
      "64/64 [==============================] - 0s 1ms/step - loss: 0.3848 - accuracy: 0.8969\n",
      "Epoch 28/100\n",
      "64/64 [==============================] - 0s 2ms/step - loss: 0.3842 - accuracy: 0.9062\n",
      "Epoch 29/100\n",
      "64/64 [==============================] - 0s 2ms/step - loss: 0.3153 - accuracy: 0.9031\n",
      "Epoch 30/100\n",
      "64/64 [==============================] - 0s 2ms/step - loss: 0.3494 - accuracy: 0.8938\n",
      "Epoch 31/100\n",
      "64/64 [==============================] - 0s 2ms/step - loss: 0.3763 - accuracy: 0.8687\n",
      "Epoch 32/100\n",
      "64/64 [==============================] - 0s 3ms/step - loss: 0.2742 - accuracy: 0.9281\n",
      "Epoch 33/100\n",
      "64/64 [==============================] - 0s 2ms/step - loss: 0.2602 - accuracy: 0.9375\n",
      "Epoch 34/100\n",
      "64/64 [==============================] - 0s 3ms/step - loss: 0.2871 - accuracy: 0.9187\n",
      "Epoch 35/100\n",
      "64/64 [==============================] - 0s 1ms/step - loss: 0.2730 - accuracy: 0.9125\n",
      "Epoch 36/100\n",
      "64/64 [==============================] - 0s 2ms/step - loss: 0.2630 - accuracy: 0.9156\n",
      "Epoch 37/100\n",
      "64/64 [==============================] - 0s 2ms/step - loss: 0.2815 - accuracy: 0.9031\n",
      "Epoch 38/100\n",
      "64/64 [==============================] - 0s 2ms/step - loss: 0.2427 - accuracy: 0.9250\n",
      "Epoch 39/100\n",
      "64/64 [==============================] - 0s 3ms/step - loss: 0.2572 - accuracy: 0.9031\n",
      "Epoch 40/100\n",
      "64/64 [==============================] - 0s 2ms/step - loss: 0.2405 - accuracy: 0.9125\n",
      "Epoch 41/100\n",
      "64/64 [==============================] - 0s 2ms/step - loss: 0.2329 - accuracy: 0.9312\n",
      "Epoch 42/100\n",
      "64/64 [==============================] - 0s 2ms/step - loss: 0.2750 - accuracy: 0.9094\n",
      "Epoch 43/100\n",
      "64/64 [==============================] - 0s 2ms/step - loss: 0.2383 - accuracy: 0.9156\n",
      "Epoch 44/100\n",
      "64/64 [==============================] - 0s 2ms/step - loss: 0.2347 - accuracy: 0.9125\n",
      "Epoch 45/100\n",
      "64/64 [==============================] - 0s 1ms/step - loss: 0.2666 - accuracy: 0.9094\n",
      "Epoch 46/100\n",
      "64/64 [==============================] - 0s 3ms/step - loss: 0.2127 - accuracy: 0.9375\n",
      "Epoch 47/100\n",
      "64/64 [==============================] - 0s 2ms/step - loss: 0.2259 - accuracy: 0.9438\n",
      "Epoch 48/100\n",
      "64/64 [==============================] - 0s 3ms/step - loss: 0.1877 - accuracy: 0.9250\n",
      "Epoch 49/100\n",
      "64/64 [==============================] - 0s 2ms/step - loss: 0.2345 - accuracy: 0.9187\n",
      "Epoch 50/100\n",
      "64/64 [==============================] - 0s 2ms/step - loss: 0.1745 - accuracy: 0.9500\n",
      "Epoch 51/100\n",
      "64/64 [==============================] - 0s 2ms/step - loss: 0.2187 - accuracy: 0.9250\n",
      "Epoch 52/100\n",
      "64/64 [==============================] - 0s 2ms/step - loss: 0.1830 - accuracy: 0.9281\n",
      "Epoch 53/100\n",
      "64/64 [==============================] - 0s 2ms/step - loss: 0.2231 - accuracy: 0.9219\n",
      "Epoch 54/100\n",
      "64/64 [==============================] - 0s 1ms/step - loss: 0.1665 - accuracy: 0.9469\n",
      "Epoch 55/100\n",
      "64/64 [==============================] - 0s 2ms/step - loss: 0.1711 - accuracy: 0.9344\n",
      "Epoch 56/100\n",
      "64/64 [==============================] - 0s 1ms/step - loss: 0.1852 - accuracy: 0.9375\n",
      "Epoch 57/100\n",
      "64/64 [==============================] - 0s 1ms/step - loss: 0.1675 - accuracy: 0.9375\n",
      "Epoch 58/100\n",
      "64/64 [==============================] - 0s 1ms/step - loss: 0.1683 - accuracy: 0.9469\n",
      "Epoch 59/100\n",
      "64/64 [==============================] - 0s 1ms/step - loss: 0.1785 - accuracy: 0.9438\n",
      "Epoch 60/100\n",
      "64/64 [==============================] - 0s 1ms/step - loss: 0.1435 - accuracy: 0.9563\n",
      "Epoch 61/100\n",
      "64/64 [==============================] - 0s 1ms/step - loss: 0.1711 - accuracy: 0.9375\n",
      "Epoch 62/100\n",
      "64/64 [==============================] - 0s 1ms/step - loss: 0.1427 - accuracy: 0.9500\n",
      "Epoch 63/100\n",
      "64/64 [==============================] - 0s 1ms/step - loss: 0.1548 - accuracy: 0.9438\n",
      "Epoch 64/100\n",
      "64/64 [==============================] - 0s 1ms/step - loss: 0.1663 - accuracy: 0.9406\n",
      "Epoch 65/100\n",
      "64/64 [==============================] - 0s 2ms/step - loss: 0.1778 - accuracy: 0.9438\n",
      "Epoch 66/100\n",
      "64/64 [==============================] - 0s 2ms/step - loss: 0.1866 - accuracy: 0.9281\n",
      "Epoch 67/100\n",
      "64/64 [==============================] - 0s 1ms/step - loss: 0.1390 - accuracy: 0.9438\n",
      "Epoch 68/100\n",
      "64/64 [==============================] - 0s 1ms/step - loss: 0.1060 - accuracy: 0.9688\n",
      "Epoch 69/100\n",
      "64/64 [==============================] - 0s 1ms/step - loss: 0.1523 - accuracy: 0.9469\n",
      "Epoch 70/100\n",
      "64/64 [==============================] - 0s 1ms/step - loss: 0.1297 - accuracy: 0.9563\n",
      "Epoch 71/100\n",
      "64/64 [==============================] - 0s 1ms/step - loss: 0.1663 - accuracy: 0.9438\n",
      "Epoch 72/100\n",
      "64/64 [==============================] - 0s 1ms/step - loss: 0.1537 - accuracy: 0.9406\n",
      "Epoch 73/100\n",
      "64/64 [==============================] - 0s 1ms/step - loss: 0.1527 - accuracy: 0.9375\n",
      "Epoch 74/100\n",
      "64/64 [==============================] - 0s 2ms/step - loss: 0.1594 - accuracy: 0.9219\n",
      "Epoch 75/100\n",
      "64/64 [==============================] - 0s 2ms/step - loss: 0.1793 - accuracy: 0.9219\n",
      "Epoch 76/100\n",
      "64/64 [==============================] - 0s 1ms/step - loss: 0.1272 - accuracy: 0.9469\n",
      "Epoch 77/100\n",
      "64/64 [==============================] - 0s 1ms/step - loss: 0.1437 - accuracy: 0.9375\n",
      "Epoch 78/100\n",
      "64/64 [==============================] - 0s 2ms/step - loss: 0.1348 - accuracy: 0.9438\n",
      "Epoch 79/100\n",
      "64/64 [==============================] - 0s 1ms/step - loss: 0.1374 - accuracy: 0.9563\n",
      "Epoch 80/100\n",
      "64/64 [==============================] - 0s 1ms/step - loss: 0.1504 - accuracy: 0.9500\n",
      "Epoch 81/100\n",
      "64/64 [==============================] - 0s 1ms/step - loss: 0.1301 - accuracy: 0.9438\n",
      "Epoch 82/100\n",
      "64/64 [==============================] - 0s 1ms/step - loss: 0.1065 - accuracy: 0.9563\n",
      "Epoch 83/100\n",
      "64/64 [==============================] - 0s 1ms/step - loss: 0.1631 - accuracy: 0.9375\n",
      "Epoch 84/100\n",
      "64/64 [==============================] - 0s 1ms/step - loss: 0.1337 - accuracy: 0.9500\n",
      "Epoch 85/100\n",
      "64/64 [==============================] - 0s 2ms/step - loss: 0.1184 - accuracy: 0.9406\n",
      "Epoch 86/100\n",
      "64/64 [==============================] - 0s 2ms/step - loss: 0.1538 - accuracy: 0.9406\n",
      "Epoch 87/100\n",
      "64/64 [==============================] - 0s 1ms/step - loss: 0.1487 - accuracy: 0.9406\n",
      "Epoch 88/100\n",
      "64/64 [==============================] - 0s 1ms/step - loss: 0.1397 - accuracy: 0.9375\n",
      "Epoch 89/100\n",
      "64/64 [==============================] - 0s 1ms/step - loss: 0.1305 - accuracy: 0.9563\n",
      "Epoch 90/100\n",
      "64/64 [==============================] - 0s 1ms/step - loss: 0.1231 - accuracy: 0.9563\n",
      "Epoch 91/100\n",
      "64/64 [==============================] - 0s 1ms/step - loss: 0.1013 - accuracy: 0.9594\n",
      "Epoch 92/100\n",
      "64/64 [==============================] - 0s 1ms/step - loss: 0.1488 - accuracy: 0.9469\n",
      "Epoch 93/100\n",
      "64/64 [==============================] - 0s 1ms/step - loss: 0.1440 - accuracy: 0.9375\n",
      "Epoch 94/100\n",
      "64/64 [==============================] - 0s 1ms/step - loss: 0.1126 - accuracy: 0.9563\n",
      "Epoch 95/100\n",
      "64/64 [==============================] - 0s 1ms/step - loss: 0.1306 - accuracy: 0.9438\n",
      "Epoch 96/100\n",
      "64/64 [==============================] - 0s 2ms/step - loss: 0.1327 - accuracy: 0.9500\n",
      "Epoch 97/100\n",
      "64/64 [==============================] - 0s 2ms/step - loss: 0.1574 - accuracy: 0.9281\n",
      "Epoch 98/100\n",
      "64/64 [==============================] - 0s 2ms/step - loss: 0.1336 - accuracy: 0.9312\n",
      "Epoch 99/100\n",
      "64/64 [==============================] - 0s 1ms/step - loss: 0.1142 - accuracy: 0.9563\n",
      "Epoch 100/100\n",
      "64/64 [==============================] - 0s 1ms/step - loss: 0.1172 - accuracy: 0.9531\n",
      "model created\n"
     ]
    }
   ],
   "metadata": {}
  },
  {
   "cell_type": "code",
   "execution_count": 9,
   "source": [
    "from matplotlib import pyplot as plt\n",
    "train_loss = hist.history['loss']\n",
    "train_acc = hist.history['accuracy']\n",
    "xc = range(epochs)\n",
    "\n",
    "plt.plot(xc,train_loss)\n",
    "plt.plot(xc,train_acc)\n",
    "plt.xlabel('num of Epochs')\n",
    "plt.ylabel('loss')\n",
    "plt.title('train_loss vs Train_accuracy')\n",
    "plt.grid(True)\n",
    "plt.legend(['Loss','Accuracy'])\n",
    "#print plt.style.available # use bmh, classic,ggplot for big pictures\n",
    "plt.style.use(['classic'])"
   ],
   "outputs": [
    {
     "output_type": "display_data",
     "data": {
      "image/png": "[encoded data removed]",
      "text/plain": [
       "<Figure size 432x288 with 1 Axes>"
      ]
     },
     "metadata": {
      "needs_background": "light"
     }
    }
   ],
   "metadata": {}
  },
  {
   "cell_type": "code",
   "execution_count": null,
   "source": [],
   "outputs": [],
   "metadata": {}
  }
 ],
 "metadata": {
  "orig_nbformat": 4,
  "language_info": {
   "name": "python",
   "version": "3.7.11",
   "mimetype": "text/x-python",
   "codemirror_mode": {
    "name": "ipython",
    "version": 3
   },
   "pygments_lexer": "ipython3",
   "nbconvert_exporter": "python",
   "file_extension": ".py"
  },
  "kernelspec": {
   "name": "python3",
   "display_name": "Python 3.7.11 64-bit ('mlai': conda)"
  },
  "interpreter": {
   "hash": "35ebf5710b4eabfcdf8f5c83ad104ed5a90d170633efc49a8df212611f0c6cfc"
  }
 },
 "nbformat": 4,
 "nbformat_minor": 2
}
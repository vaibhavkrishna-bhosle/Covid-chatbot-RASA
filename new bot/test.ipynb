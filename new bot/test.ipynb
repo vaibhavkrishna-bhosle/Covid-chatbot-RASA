{
 "cells": [
  {
   "cell_type": "code",
   "execution_count": 1,
   "source": [
    "import requests"
   ],
   "outputs": [],
   "metadata": {}
  },
  {
   "cell_type": "code",
   "execution_count": 2,
   "source": [
    "responses = requests.get(\"https://api.covid19india.org/data.json\").json()\n"
   ],
   "outputs": [],
   "metadata": {}
  },
  {
   "cell_type": "code",
   "execution_count": 19,
   "source": [
    "dailyconfirmed = 0\n",
    "dailydeceased = 0\n",
    "dailyrecovered = 0\n",
    "months = ['January','February','March','April','May','June','July','August','September','October','November','December']\n",
    "for data in responses[\"cases_time_series\"]:\n",
    "        if data[\"dateymd\"][:7] == '2020-03':\n",
    "                dailyconfirmed += int(data['dailyconfirmed'])\n",
    "                dailydeceased += int(data['dailydeceased'])\n",
    "                dailyrecovered += int(data['dailyrecovered'])\n",
    "                message = \"Total cases in the month \" + months[int(data[\"dateymd\"][5:7])] + \" \" + str(int(data[\"dateymd\"][:4])) + \" is\\nDaily Confirmed: \" + str(dailyconfirmed) +\"\\nDaily Deceased: \" + str(dailydeceased) + \"\\nDaily Recovered: \" + str(dailyrecovered)\n",
    "\n",
    "print(message)"
   ],
   "outputs": [
    {
     "output_type": "stream",
     "name": "stdout",
     "text": [
      "Total cases in the month April 2020 is\n",
      "Daily Confirmed: 1632\n",
      "Daily Deceased: 47\n",
      "Daily Recovered: 147\n"
     ]
    }
   ],
   "metadata": {}
  },
  {
   "cell_type": "markdown",
   "source": [
    "# message test"
   ],
   "metadata": {}
  },
  {
   "cell_type": "code",
   "execution_count": 1,
   "source": [
    "msg = \"2021-04\""
   ],
   "outputs": [],
   "metadata": {}
  },
  {
   "cell_type": "code",
   "execution_count": 3,
   "source": [
    "import tensorflow.keras as keras\n",
    "from utils import *\n",
    "model = keras.models.load_model('save/chatbot_model.h5')"
   ],
   "outputs": [
    {
     "output_type": "stream",
     "name": "stderr",
     "text": [
      "/Users/vaibhavkrishnabhosle/opt/anaconda3/envs/mlai/lib/python3.7/importlib/_bootstrap.py:219: RuntimeWarning: numpy.ufunc size changed, may indicate binary incompatibility. Expected 216, got 192\n",
      "  return f(*args, **kwds)\n",
      "/Users/vaibhavkrishnabhosle/opt/anaconda3/envs/mlai/lib/python3.7/importlib/_bootstrap.py:219: RuntimeWarning: numpy.ufunc size changed, may indicate binary incompatibility. Expected 216, got 192\n",
      "  return f(*args, **kwds)\n"
     ]
    }
   ],
   "metadata": {}
  },
  {
   "cell_type": "code",
   "execution_count": 4,
   "source": [
    "ints = predict_class(msg, model)"
   ],
   "outputs": [
    {
     "output_type": "stream",
     "name": "stderr",
     "text": [
      "2021-09-19 16:39:38.543934: I tensorflow/compiler/mlir/mlir_graph_optimization_pass.cc:176] None of the MLIR Optimization Passes are enabled (registered 2)\n"
     ]
    }
   ],
   "metadata": {}
  },
  {
   "cell_type": "code",
   "execution_count": null,
   "source": [],
   "outputs": [],
   "metadata": {}
  }
 ],
 "metadata": {
  "orig_nbformat": 4,
  "language_info": {
   "name": "python",
   "version": "3.7.11",
   "mimetype": "text/x-python",
   "codemirror_mode": {
    "name": "ipython",
    "version": 3
   },
   "pygments_lexer": "ipython3",
   "nbconvert_exporter": "python",
   "file_extension": ".py"
  },
  "kernelspec": {
   "name": "python3",
   "display_name": "Python 3.7.11 64-bit ('mlai': conda)"
  },
  "interpreter": {
   "hash": "35ebf5710b4eabfcdf8f5c83ad104ed5a90d170633efc49a8df212611f0c6cfc"
  }
 },
 "nbformat": 4,
 "nbformat_minor": 2
}